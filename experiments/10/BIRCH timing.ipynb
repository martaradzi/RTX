{
 "cells": [
  {
   "cell_type": "code",
   "execution_count": 1,
   "metadata": {},
   "outputs": [],
   "source": [
    "import pandas as pd \n",
    "import numpy as np \n",
    "import matplotlib.pyplot as plt\n",
    "import seaborn as sns\n",
    "from pylab import plot, show, savefig, xlim, figure,  ylim, legend, boxplot, setp, axes\n",
    "\n",
    "from sklearn import metrics\n",
    "import time\n",
    "import copy\n",
    "\n",
    "from sklearn.cluster import Birch\n",
    "from sklearn import metrics\n",
    "from sklearn.metrics import pairwise_distances\n",
    "\n",
    "from sklearn import decomposition\n",
    "from sklearn.preprocessing import StandardScaler\n",
    "from sklearn.decomposition import PCA"
   ]
  },
  {
   "cell_type": "code",
   "execution_count": null,
   "metadata": {},
   "outputs": [],
   "source": []
  },
  {
   "cell_type": "code",
   "execution_count": null,
   "metadata": {},
   "outputs": [],
   "source": []
  },
  {
   "cell_type": "code",
   "execution_count": 2,
   "metadata": {},
   "outputs": [],
   "source": [
    "df = pd.read_csv('data.csv')\n",
    "\n",
    "data_split_modified_z = df[['median_overhead', 'q1_overhead', 'q3_overhead', 'p9_overhead', 'totalCarNumber', 'index']].copy()\n",
    "# data_split_modified_z = data_split_modified_z.iloc[:144, :]\n",
    "data_split_modified_z = data_split_modified_z.to_numpy()\n",
    "# data_split_modified_z_12 = data_split_modified_z.to_numpy()\n",
    "\n",
    "data_split_modified_z_12 = np.split(data_split_modified_z, 16)\n",
    "indexes = [] \n",
    "\n",
    "for d in range(len(data_split_modified_z_12)):\n",
    "    ind = []\n",
    "    k = len(data_split_modified_z_12[d])\n",
    "    for i in [0, 1, 2, 3]:\n",
    "        ys = data_split_modified_z_12[d][:,i] \n",
    "        median_y = np.median(ys)\n",
    "        median_absolute_deviation_y = np.median([np.abs(y - median_y) for y in ys])\n",
    "#         print(median_absolute_deviation_y)\n",
    "        for y in range(len(data_split_modified_z_12[d])):\n",
    "            modified_z_score = 0.6745 * (data_split_modified_z_12[d][y, i] - median_y) / median_absolute_deviation_y\n",
    "#             z_score = (data_split[d][y, i]  - mean_ys) / std_ys\n",
    "            if np.abs(modified_z_score) > 3.5:\n",
    "                ind.append(y)\n",
    "\n",
    "\n",
    "    data_split_modified_z_12[d] = np.delete(data_split_modified_z_12[d], ind, axis=0)\n",
    "#     print('Outliers detected: ' + str((k - len(data_split_modified_z_12[d]))))\n",
    "\n",
    "# data_split_modified_z_12 = np.concatenate(data_split_modified_z_12, axis=0)"
   ]
  },
  {
   "cell_type": "code",
   "execution_count": 4,
   "metadata": {},
   "outputs": [],
   "source": [
    "k_np = data_split_modified_z_12[0] # this numpy array is used for the initial k-means\n",
    "list_of_dfs_rest = data_split_modified_z_12[1:8] # this data will be clustered using sequential k-means\n",
    "list_of_dfs_rest_con= np.concatenate(list_of_dfs_rest, axis=0)\n",
    "k = 2"
   ]
  },
  {
   "cell_type": "code",
   "execution_count": null,
   "metadata": {},
   "outputs": [],
   "source": []
  },
  {
   "cell_type": "code",
   "execution_count": 8,
   "metadata": {},
   "outputs": [
    {
     "name": "stdout",
     "output_type": "stream",
     "text": [
      "0.011421685218811034\n"
     ]
    }
   ],
   "source": [
    "time_array = []\n",
    "for i in range(100):\n",
    "    start_time = time.time()\n",
    "    model_005_before= Birch(n_clusters=None, threshold=0.2)\n",
    "    for i in data_split_modified_z_12:\n",
    "        model_005_before.partial_fit(i[:, :-2])\n",
    "    model_005_before.set_params(n_clusters = 2)\n",
    "    labels = model_005_before.predict(list_of_dfs_rest_con[:, :-2])\n",
    "    end_time = time.time()\n",
    "    timing = end_time-start_time\n",
    "    time_array.append(timing)\n",
    "#     print(timing)\n",
    "print(np.average(time_array))"
   ]
  },
  {
   "cell_type": "code",
   "execution_count": 5,
   "metadata": {},
   "outputs": [
    {
     "name": "stdout",
     "output_type": "stream",
     "text": [
      "0.0158236026763916\n"
     ]
    }
   ],
   "source": [
    "start_time = time.time()\n",
    "model_005_before= Birch(n_clusters=None, threshold=0.2)\n",
    "for i in data_split_modified_z_12:\n",
    "    model_005_before.partial_fit(i[:, :-2])\n",
    "model_005_before.set_params(n_clusters = 2)\n",
    "labels = model_005_before.predict(list_of_dfs_rest_con[:, :-2])\n",
    "end_time = time.time()\n",
    "timing = end_time-start_time\n",
    "print(str(end_time-start_time))"
   ]
  },
  {
   "cell_type": "code",
   "execution_count": 10,
   "metadata": {},
   "outputs": [
    {
     "name": "stdout",
     "output_type": "stream",
     "text": [
      "0.018218259811401367\n"
     ]
    }
   ],
   "source": [
    "time_array = []\n",
    "for i in range(100):\n",
    "    start_time = time.time()\n",
    "    model= Birch(n_clusters=None, threshold=0.01)\n",
    "    for i in data_split_modified_z_12:\n",
    "        model.partial_fit(i[:, :-2])\n",
    "    model.set_params(n_clusters = 2)\n",
    "    labels = model.predict(list_of_dfs_rest_con[:, :-2])\n",
    "    end_time = time.time()\n",
    "    timing = end_time-start_time\n",
    "    time_array.append(timing)\n",
    "#     print(timing)\n",
    "print(np.average(time_array))"
   ]
  },
  {
   "cell_type": "code",
   "execution_count": null,
   "metadata": {},
   "outputs": [],
   "source": []
  }
 ],
 "metadata": {
  "kernelspec": {
   "display_name": "Python 3",
   "language": "python",
   "name": "python3"
  },
  "language_info": {
   "codemirror_mode": {
    "name": "ipython",
    "version": 3
   },
   "file_extension": ".py",
   "mimetype": "text/x-python",
   "name": "python",
   "nbconvert_exporter": "python",
   "pygments_lexer": "ipython3",
   "version": "3.6.9"
  }
 },
 "nbformat": 4,
 "nbformat_minor": 4
}
