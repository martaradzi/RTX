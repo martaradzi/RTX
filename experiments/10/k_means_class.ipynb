{
 "cells": [
  {
   "cell_type": "code",
   "execution_count": 1,
   "metadata": {},
   "outputs": [],
   "source": [
    "import pandas as pd \n",
    "import numpy as np \n",
    "import matplotlib.pyplot as plt\n",
    "import seaborn as sns\n",
    "from pylab import plot, show, savefig, xlim, figure,  ylim, legend, boxplot, setp, axes\n",
    "\n",
    "from sklearn import metrics\n",
    "\n",
    "\n",
    "import copy"
   ]
  },
  {
   "cell_type": "code",
   "execution_count": 2,
   "metadata": {},
   "outputs": [],
   "source": [
    "df = pd.read_csv('data.csv')\n",
    "data_split_modified_z = df[['median_overhead', 'q1_overhead', 'q3_overhead', 'p9_overhead', 'totalCarNumber', 'index']].copy()\n",
    "# data_split_modified_z = data_split_modified_z.iloc[:144, :]\n",
    "data_split_modified_z = data_split_modified_z.to_numpy()\n",
    "# data_split_modified_z_12 = data_split_modified_z.to_numpy()\n",
    "\n",
    "data_split_modified_z_12 = np.split(data_split_modified_z, 16)\n",
    "\n",
    "k_np = data_split_modified_z_12[0] # this numpy array is used for the initial k-means\n",
    "list_of_dfs_rest = data_split_modified_z_12[1:8] # this data will be clustered using sequential k-means\n"
   ]
  },
  {
   "cell_type": "code",
   "execution_count": 3,
   "metadata": {},
   "outputs": [],
   "source": [
    "def euclidean_distance(point1, point2):\n",
    "    return np.sqrt(np.sum(point1 - point2)**2)"
   ]
  },
  {
   "cell_type": "code",
   "execution_count": 4,
   "metadata": {},
   "outputs": [],
   "source": [
    "def get_sil_score(data, labels):\n",
    "    return metrics.silhouette_score(data, labels, metric='euclidean')"
   ]
  },
  {
   "cell_type": "code",
   "execution_count": 5,
   "metadata": {},
   "outputs": [],
   "source": [
    "class kMeans:\n",
    "    \n",
    "    def __init__(self, k=2, max_iters=100, threshold=0, plot_iter=False):\n",
    "        self.k = k\n",
    "        self.max_iters = max_iters\n",
    "        self.threshold = threshold\n",
    "        self.counts = np.zeros(self.k)\n",
    "        self.plot_iter = plot_iter\n",
    "        self.centroids = [[] for _ in range(self.k)]\n",
    "#         self.centroids = []\n",
    "\n",
    "        \n",
    "    def fit(self, data):\n",
    "\n",
    "        feat_size = len(data[0]) - 2 # this assumes that the last two features are time index and number of cars\n",
    "        number_of_samples = len(data)\n",
    "\n",
    "#         self.centroids = np.zeros(self.k, feat_size)\n",
    "        \n",
    "        labels = np.zeros(number_of_samples)\n",
    "        \n",
    "        random_centroids = np.random.choice(number_of_samples, self.k, replace = False)\n",
    "        # init the centroids\n",
    "        for index in range(self.k):\n",
    "            self.centroids[index] = data[random_centroids[index], :-2]\n",
    "\n",
    "        for iteration in range(self.max_iters):\n",
    "            centroids_old = copy.deepcopy(self.centroids)\n",
    "            distance_instance_to_clusters = np.zeros((number_of_samples, self.k))\n",
    "            \n",
    "            for instance in range(number_of_samples):\n",
    "                for cluster in range(self.k):\n",
    "                    distance_instance_to_clusters[instance, cluster] = euclidean_distance(k_np[instance, :-2], self.centroids[cluster])\n",
    "                # choose closets cluster for that instance\n",
    "                labels[instance] = np.argmin(distance_instance_to_clusters[instance])\n",
    "            \n",
    "            for i in range(self.k):\n",
    "                self.clusters = data[labels==i, :-2]\n",
    "                self.centroids[i] = np.mean(self.clusters, axis=0)\n",
    "            \n",
    "            if self.plot_iter:\n",
    "                self.plot_iteration(iteration, data, labels)\n",
    "            \n",
    "            centroid_distances = [euclidean_distance(centroids_old[i], self.centroids[i]) for i in range(self.k)]\n",
    "            \n",
    "            if sum(centroid_distances) <= self.threshold:\n",
    "                print(f'Converged somehow (?) at iter {iteration+1}')\n",
    "                break\n",
    "        return \n",
    "        \n",
    "    def predict(self, data):\n",
    "        distance_instance_to_clusters = np.zeros((len(data), self.k))\n",
    "        labels = np.zeros(len(data))\n",
    "        for instance in range(len(data)):\n",
    "            for cluster in range(self.k):\n",
    "                distance_instance_to_clusters[instance, cluster] = euclidean_distance(data[instance, :-2], self.centroids[cluster])\n",
    "            labels[instance] = np.argmin(distance_instance_to_clusters[instance])\n",
    "        return labels\n",
    "    \n",
    "    def partial_fit(self, data, plot_partial_fit=False):\n",
    "        new_labels = np.zeros(len(data))\n",
    "        for indx in range(len(data)):\n",
    "            new_labels[indx] = self.fit_instance(data[indx])\n",
    "#         self.labels = np.append(self.labels, new_labels)\n",
    "        if plot_partial_fit:\n",
    "            self.plot_partial_fit(data, new_labels)\n",
    "    \n",
    "    \n",
    "    \n",
    "    def fit_instance(self, instance):\n",
    "        distance_instance_to_clusters = np.zeros(self.k)\n",
    "        for i in range(self.k):\n",
    "            distance_instance_to_clusters[i] = euclidean_distance(self.centroids[i], instance[:-2])\n",
    "        label = np.argmin(distance_instance_to_clusters)\n",
    "        self.counts[label] += 1\n",
    "        self.centroids[label] = self.centroids[label] + (1 / self.counts[label]) * (instance[:-2] - self.centroids[label])\n",
    "        return label\n",
    "    \n",
    "        \n",
    "    def plot_partial_fit(self, data, labels):\n",
    "        \n",
    "        figure, axs = plt.subplots(nrows=1, ncols=2,figsize=(14,4))                       \n",
    "#         figure.suptitle(f'data {title}/10', fontsize= 16)\n",
    "\n",
    "        axs[0].scatter(data[:,5], data[:,4], c=labels, cmap='rainbow', alpha=0.7)\n",
    "        axs[0].set_ylabel('Number of cars')\n",
    "        axs[0].set_xlabel('Time')\n",
    "        \n",
    "#         if data[] > 7:\n",
    "#             axs[0].axvline(x=143, color='g')\n",
    "\n",
    "        axs[1].scatter(data[:,1], data[:,3], c=labels, cmap='rainbow', alpha=0.7)\n",
    "        axs[1].set_ylabel('3rd Quartile')\n",
    "        axs[1].set_xlabel('1st Quartlie')\n",
    "        for i in range(len(self.centroids)):\n",
    "            axs[1].scatter(self.centroids[i][1], self.centroids[i][3], c='black', marker='x')\n",
    "\n",
    "        figure.tight_layout(rect=[0, 0.03, 1, 0.95])\n",
    "\n",
    "        plt.show(figure)\n",
    "        plt.close(figure)\n",
    "        return \n",
    "    \n",
    "    def plot_iteration(self, iteration, data, labels):\n",
    "        \n",
    "        axes_labels = ['median_overhead', 'q1_overhead', 'q3_overhead', 'p9_overhead',]\n",
    "        axes_feats = [[(0,1),(0,3),(0,2)],\n",
    "                              [(1,3),(1,2),(2,3)],\n",
    "                             ]\n",
    "        nrows = 2\n",
    "        ncols = 3\n",
    "        figure, axs = plt.subplots(nrows=nrows, ncols=ncols,figsize=(13,7))\n",
    "        figure.suptitle(f'iteration {iteration}', fontsize= 16)\n",
    "        for row in range(nrows):\n",
    "            for col in range(ncols):\n",
    "                feat = axes_feats[row][col]\n",
    "                figure.tight_layout(rect=[0, 0.03, 1, 0.95])\n",
    "                axs[row, col].scatter(data[:, feat[0]], data[:, feat[1]],  c=labels, cmap='rainbow', alpha=0.7)\n",
    "                axs[row, col].set_ylabel(axes_labels[feat[1]])\n",
    "                axs[row, col].set_xlabel(axes_labels[feat[0]])\n",
    "                for i in range(len(self.centroids)):\n",
    "                    axs[row, col].scatter(self.centroids[i][feat[0]], self.centroids[i][feat[1]], c='black', marker='x')\n",
    "        plt.show(figure)\n",
    "        plt.close(figure)\n",
    "        \n",
    "        return\n",
    "        "
   ]
  },
  {
   "cell_type": "code",
   "execution_count": 6,
   "metadata": {},
   "outputs": [],
   "source": [
    "model = kMeans(k=2)"
   ]
  },
  {
   "cell_type": "code",
   "execution_count": 7,
   "metadata": {
    "scrolled": true
   },
   "outputs": [
    {
     "name": "stdout",
     "output_type": "stream",
     "text": [
      "Converged somehow (?) at iter 4\n"
     ]
    }
   ],
   "source": [
    "model.fit(k_np)"
   ]
  },
  {
   "cell_type": "code",
   "execution_count": 8,
   "metadata": {},
   "outputs": [
    {
     "data": {
      "text/plain": [
       "1.7466792001659524"
      ]
     },
     "execution_count": 8,
     "metadata": {},
     "output_type": "execute_result"
    }
   ],
   "source": [
    "model.centroids[1][0]"
   ]
  },
  {
   "cell_type": "code",
   "execution_count": 9,
   "metadata": {
    "scrolled": true
   },
   "outputs": [],
   "source": [
    "for set_df in list_of_dfs_rest:\n",
    "    new_data = set_df\n",
    "    model.partial_fit(new_data)"
   ]
  },
  {
   "cell_type": "code",
   "execution_count": null,
   "metadata": {},
   "outputs": [],
   "source": []
  },
  {
   "cell_type": "code",
   "execution_count": 10,
   "metadata": {},
   "outputs": [],
   "source": [
    "list_of_dfs_rest= np.concatenate(list_of_dfs_rest, axis=0)"
   ]
  },
  {
   "cell_type": "code",
   "execution_count": 11,
   "metadata": {},
   "outputs": [],
   "source": [
    "labels = model.predict(list_of_dfs_rest)"
   ]
  },
  {
   "cell_type": "code",
   "execution_count": 12,
   "metadata": {},
   "outputs": [
    {
     "data": {
      "text/plain": [
       "array([1., 1., 1., 1., 1., 1., 1., 1., 1., 1., 1., 1., 1., 1., 1., 1., 1.,\n",
       "       1., 1., 1., 1., 1., 1., 1., 1., 1., 1., 1., 1., 0., 1., 1., 1., 1.,\n",
       "       1., 1., 1., 1., 1., 1., 1., 1., 1., 1., 1., 1., 1., 1., 1., 1., 1.,\n",
       "       1., 1., 1., 1., 1., 1., 1., 1., 1., 1., 1., 1., 1., 1., 1., 1., 1.,\n",
       "       1., 1., 1., 1., 1., 1., 1., 1., 1., 1., 1., 1., 1., 1., 1., 1., 1.,\n",
       "       1., 1., 1., 1., 1., 1., 1., 1., 1., 1., 1., 1., 1., 1., 1., 1., 1.,\n",
       "       1., 1., 1., 1., 1., 1., 1., 1., 1., 1., 1., 1., 1., 1., 1., 1., 1.,\n",
       "       1., 1., 1., 1., 1., 1., 1.])"
      ]
     },
     "execution_count": 12,
     "metadata": {},
     "output_type": "execute_result"
    }
   ],
   "source": [
    "labels"
   ]
  },
  {
   "cell_type": "code",
   "execution_count": null,
   "metadata": {},
   "outputs": [],
   "source": []
  }
 ],
 "metadata": {
  "kernelspec": {
   "display_name": "Python 3",
   "language": "python",
   "name": "python3"
  },
  "language_info": {
   "codemirror_mode": {
    "name": "ipython",
    "version": 3
   },
   "file_extension": ".py",
   "mimetype": "text/x-python",
   "name": "python",
   "nbconvert_exporter": "python",
   "pygments_lexer": "ipython3",
   "version": "3.6.9"
  }
 },
 "nbformat": 4,
 "nbformat_minor": 4
}
