{
 "cells": [
  {
   "cell_type": "code",
   "execution_count": 1,
   "metadata": {},
   "outputs": [],
   "source": [
    "import pandas as pd \n",
    "import numpy as np \n",
    "import matplotlib.pyplot as plt\n",
    "import seaborn as sns\n",
    "from pylab import plot, show, savefig, xlim, figure,  ylim, legend, boxplot, setp, axes\n",
    "\n",
    "from sklearn.cluster import Birch\n",
    "from sklearn import metrics\n",
    "from sklearn.metrics import pairwise_distances\n",
    "\n",
    "from sklearn import decomposition\n",
    "from sklearn.preprocessing import StandardScaler\n",
    "from sklearn.decomposition import PCA"
   ]
  },
  {
   "cell_type": "code",
   "execution_count": 2,
   "metadata": {},
   "outputs": [
    {
     "name": "stdout",
     "output_type": "stream",
     "text": [
      "              start         total      overhead       duration\n",
      "count  56706.000000  56706.000000  56706.000000   56706.000000\n",
      "mean     486.235319    490.679999      1.977623     483.287941\n",
      "std       96.924995     98.011656      1.502224    4894.567496\n",
      "min      194.000000    200.000000      0.817215       2.000000\n",
      "25%      399.000000    400.000000      1.370191     172.000000\n",
      "50%      497.000000    500.000000      1.742813     297.000000\n",
      "75%      591.000000    600.000000      2.214598     454.000000\n",
      "max      599.000000    600.000000     30.000000  230964.000000\n"
     ]
    }
   ],
   "source": [
    "df =  pd.read_csv('raw_data.csv')\n",
    "df.columns =[\"start\", \"total\", 'overhead', 'duration']\n",
    "print(df.describe())\n",
    "df['c'] = df['total'].diff()\n",
    "df_filtered = df[df['c'] != 0]\n",
    "\n",
    "index_list = df_filtered.index.tolist() # list of the start poisitions of index for change of values \n",
    "# print(len(index_list))\n",
    "# print('\\n')\n",
    "# print(index_list)\n",
    "\n",
    "l_mod = index_list + [max(index_list)+1] # creating a list of indexes to iterate over (must have 0 in it)\n",
    "list_of_dfs = [df.iloc[l_mod[n]:l_mod[n+1]] for n in range(len(l_mod)-1)] # creating a list of dfs for each index\n",
    "\n",
    "# len(list_of_dfs)"
   ]
  },
  {
   "cell_type": "code",
   "execution_count": 4,
   "metadata": {},
   "outputs": [
    {
     "data": {
      "text/html": [
       "<div>\n",
       "<style scoped>\n",
       "    .dataframe tbody tr th:only-of-type {\n",
       "        vertical-align: middle;\n",
       "    }\n",
       "\n",
       "    .dataframe tbody tr th {\n",
       "        vertical-align: top;\n",
       "    }\n",
       "\n",
       "    .dataframe thead th {\n",
       "        text-align: right;\n",
       "    }\n",
       "</style>\n",
       "<table border=\"1\" class=\"dataframe\">\n",
       "  <thead>\n",
       "    <tr style=\"text-align: right;\">\n",
       "      <th></th>\n",
       "      <th>median</th>\n",
       "      <th>q1</th>\n",
       "      <th>q3</th>\n",
       "      <th>p90</th>\n",
       "      <th>cars</th>\n",
       "    </tr>\n",
       "  </thead>\n",
       "  <tbody>\n",
       "    <tr>\n",
       "      <th>0</th>\n",
       "      <td>1.570335</td>\n",
       "      <td>1.352734</td>\n",
       "      <td>1.911584</td>\n",
       "      <td>2.235225</td>\n",
       "      <td>200</td>\n",
       "    </tr>\n",
       "    <tr>\n",
       "      <th>1</th>\n",
       "      <td>1.598932</td>\n",
       "      <td>1.317073</td>\n",
       "      <td>1.924391</td>\n",
       "      <td>2.327385</td>\n",
       "      <td>300</td>\n",
       "    </tr>\n",
       "    <tr>\n",
       "      <th>2</th>\n",
       "      <td>1.710585</td>\n",
       "      <td>1.378743</td>\n",
       "      <td>2.100281</td>\n",
       "      <td>2.602389</td>\n",
       "      <td>400</td>\n",
       "    </tr>\n",
       "    <tr>\n",
       "      <th>3</th>\n",
       "      <td>1.619190</td>\n",
       "      <td>1.350614</td>\n",
       "      <td>1.929671</td>\n",
       "      <td>2.363173</td>\n",
       "      <td>300</td>\n",
       "    </tr>\n",
       "    <tr>\n",
       "      <th>4</th>\n",
       "      <td>1.521436</td>\n",
       "      <td>1.297669</td>\n",
       "      <td>1.800330</td>\n",
       "      <td>2.134260</td>\n",
       "      <td>200</td>\n",
       "    </tr>\n",
       "  </tbody>\n",
       "</table>\n",
       "</div>"
      ],
      "text/plain": [
       "     median        q1        q3       p90  cars\n",
       "0  1.570335  1.352734  1.911584  2.235225   200\n",
       "1  1.598932  1.317073  1.924391  2.327385   300\n",
       "2  1.710585  1.378743  2.100281  2.602389   400\n",
       "3  1.619190  1.350614  1.929671  2.363173   300\n",
       "4  1.521436  1.297669  1.800330  2.134260   200"
      ]
     },
     "execution_count": 4,
     "metadata": {},
     "output_type": "execute_result"
    }
   ],
   "source": [
    "data = pd.DataFrame(columns=['median', 'q1', 'q3', 'p90', 'cars'])\n",
    "mode = []\n",
    "median, q1, q3, p90 = [], [], [], []\n",
    "\n",
    "for frame in list_of_dfs:\n",
    "    m = frame['overhead'].median()\n",
    "    median.append(m)\n",
    "    q1.append(frame['overhead'].quantile(q =.25))\n",
    "    q3.append(frame['overhead'].quantile(q =.75))\n",
    "    p90.append(frame['overhead'].quantile(q =.9))\n",
    "    mode.append(frame['total'].mode()[0]) # mode returns a series so we need to specify which value to return\n",
    "\n",
    "    \n",
    "data['median'] = median\n",
    "data['q1'] = q1\n",
    "data['q3'] = q3\n",
    "data['p90']= p90\n",
    "data['cars'] = mode\n",
    "\n",
    "data.head()"
   ]
  },
  {
   "cell_type": "code",
   "execution_count": 6,
   "metadata": {},
   "outputs": [
    {
     "data": {
      "text/plain": [
       "(51, 5)"
      ]
     },
     "execution_count": 6,
     "metadata": {},
     "output_type": "execute_result"
    }
   ],
   "source": [
    "data.shape"
   ]
  },
  {
   "cell_type": "code",
   "execution_count": 7,
   "metadata": {},
   "outputs": [],
   "source": [
    "data.drop([50], inplace = True)"
   ]
  },
  {
   "cell_type": "code",
   "execution_count": 8,
   "metadata": {},
   "outputs": [
    {
     "data": {
      "text/plain": [
       "(50, 5)"
      ]
     },
     "execution_count": 8,
     "metadata": {},
     "output_type": "execute_result"
    }
   ],
   "source": [
    "data.shape"
   ]
  },
  {
   "cell_type": "code",
   "execution_count": null,
   "metadata": {},
   "outputs": [],
   "source": []
  },
  {
   "cell_type": "code",
   "execution_count": 13,
   "metadata": {},
   "outputs": [],
   "source": [
    "data_split = data[['median', 'q1', 'q3', 'p90', 'cars']].to_numpy()\n",
    "data_split = np.split(data_split, 5)"
   ]
  },
  {
   "cell_type": "code",
   "execution_count": 14,
   "metadata": {},
   "outputs": [
    {
     "name": "stdout",
     "output_type": "stream",
     "text": [
      "Outliers detected: 0\n",
      "Outliers detected: 0\n",
      "Outliers detected: 0\n",
      "Outliers detected: 0\n",
      "Outliers detected: 0\n",
      "Outliers detected: 0\n",
      "Outliers detected: 0\n",
      "Outliers detected: 0\n",
      "Outliers detected: 0\n",
      "Outliers detected: 0\n",
      "[]\n"
     ]
    }
   ],
   "source": [
    "data_split_z = data[['median', 'q1', 'q3', 'p90', 'cars']].to_numpy()\n",
    "# print_graphs(data_split_z, 'Before outlier detection')\n",
    "data_split_z = np.split(data_split_z, 10)\n",
    "indexes = [] \n",
    "for d in range(len(data_split_z)):\n",
    "    ind = []\n",
    "    k = len(data_split_z[d])\n",
    "    for i in [0, 1, 2, 3]:\n",
    "        ys = data_split_z[d][:,i] \n",
    "        mean_ys = np.mean(ys)\n",
    "        std_ys = np.std(ys)\n",
    "        \n",
    "        for y in range(len(data_split_z[d])):\n",
    "            z_score = (data_split_z[d][y, i]  - mean_ys) / std_ys\n",
    "            if np.abs(z_score) > 3:\n",
    "                ind.append(y)\n",
    "                \n",
    "    data_split_z[d] = np.delete(data_split_z[d], ind, axis=0)\n",
    "    print('Outliers detected: ' + str((k - len(data_split_z[d]))))\n",
    "#     print('\\n')\n",
    "\n",
    "\n",
    "print(indexes)\n",
    "data_split_z = np.concatenate(data_split_z, axis=0)\n",
    "# print_graphs(data_split_z, 'After outlier detection')"
   ]
  },
  {
   "cell_type": "code",
   "execution_count": 18,
   "metadata": {},
   "outputs": [
    {
     "name": "stdout",
     "output_type": "stream",
     "text": [
      "0\n",
      "Outliers detected: 2\n",
      "1\n",
      "Outliers detected: 1\n",
      "2\n",
      "Outliers detected: 0\n",
      "3\n",
      "Outliers detected: 0\n",
      "4\n",
      "Outliers detected: 2\n",
      "5\n",
      "Outliers detected: 1\n",
      "6\n",
      "Outliers detected: 1\n",
      "7\n",
      "Outliers detected: 2\n",
      "8\n",
      "Outliers detected: 1\n",
      "9\n",
      "Outliers detected: 0\n",
      "[[2, 4], [9, 9], [], [], [20, 22], [26], [30], [36, 38], [40], []]\n"
     ]
    }
   ],
   "source": [
    "data_split_modified_z = data[['median', 'q1', 'q3', 'p90', 'cars']].to_numpy()\n",
    "indexes = [] \n",
    "# print_graphs(data_split_modified_z, 'Before outlier detection')\n",
    "data_split_modified_z = np.split(data_split_modified_z, 10)\n",
    "\n",
    "for d in range(len(data_split_modified_z)):\n",
    "    print(d)\n",
    "    ind = []\n",
    "    k = len(data_split_modified_z[d])\n",
    "    for i in [0, 1, 2, 3]:\n",
    "        ys = data_split_modified_z[d][:,i] \n",
    "        median_y = np.median(ys)\n",
    "        median_absolute_deviation_y = np.median([np.abs(y - median_y) for y in ys])\n",
    "#         print(median_absolute_deviation_y)\n",
    "        for y in range(len(data_split_modified_z[d])):\n",
    "            modified_z_score = 0.6745 * (data_split_modified_z[d][y, i] - median_y) / median_absolute_deviation_y\n",
    "#             z_score = (data_split[d][y, i]  - mean_ys) / std_ys\n",
    "            if np.abs(modified_z_score) > 3.5:\n",
    "                ind.append(y)\n",
    "\n",
    "\n",
    "    data_split_modified_z[d] = np.delete(data_split_modified_z[d], ind, axis=0)\n",
    "    print('Outliers detected: ' + str((k - len(data_split_modified_z[d]))))\n",
    "    for num in range(len(ind)):\n",
    "        j = ind[num] + (d*5)\n",
    "        ind[num] = j\n",
    "        \n",
    "    indexes.append(ind)\n",
    "#     print('\\n')\n",
    "print(indexes)\n",
    "data_split_modified_z = np.concatenate(data_split_modified_z, axis=0)\n",
    "# print_graphs(data_split_modified_z, 'After outlier detection')"
   ]
  },
  {
   "cell_type": "code",
   "execution_count": null,
   "metadata": {},
   "outputs": [],
   "source": [
    "o = [2,4, 19, 60, 62, 76, 90, 106, ]"
   ]
  }
 ],
 "metadata": {
  "kernelspec": {
   "display_name": "Python 3",
   "language": "python",
   "name": "python3"
  },
  "language_info": {
   "codemirror_mode": {
    "name": "ipython",
    "version": 3
   },
   "file_extension": ".py",
   "mimetype": "text/x-python",
   "name": "python",
   "nbconvert_exporter": "python",
   "pygments_lexer": "ipython3",
   "version": "3.6.9"
  }
 },
 "nbformat": 4,
 "nbformat_minor": 4
}
