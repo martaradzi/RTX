{
 "cells": [
  {
   "cell_type": "code",
   "execution_count": 1,
   "metadata": {},
   "outputs": [],
   "source": [
    "import pandas as pd \n",
    "import numpy as np \n",
    "import matplotlib.pyplot as plt\n",
    "import seaborn as sns\n",
    "from pylab import plot, show, savefig, xlim, figure,  ylim, legend, boxplot, setp, axes"
   ]
  },
  {
   "cell_type": "code",
   "execution_count": 2,
   "metadata": {},
   "outputs": [
    {
     "data": {
      "text/html": [
       "<div>\n",
       "<style scoped>\n",
       "    .dataframe tbody tr th:only-of-type {\n",
       "        vertical-align: middle;\n",
       "    }\n",
       "\n",
       "    .dataframe tbody tr th {\n",
       "        vertical-align: top;\n",
       "    }\n",
       "\n",
       "    .dataframe thead th {\n",
       "        text-align: right;\n",
       "    }\n",
       "</style>\n",
       "<table border=\"1\" class=\"dataframe\">\n",
       "  <thead>\n",
       "    <tr style=\"text-align: right;\">\n",
       "      <th></th>\n",
       "      <th>start</th>\n",
       "      <th>Car Number</th>\n",
       "      <th>overhead</th>\n",
       "      <th>Trip Duration</th>\n",
       "    </tr>\n",
       "  </thead>\n",
       "  <tbody>\n",
       "    <tr>\n",
       "      <th>count</th>\n",
       "      <td>56706.000000</td>\n",
       "      <td>56706.000000</td>\n",
       "      <td>56706.000000</td>\n",
       "      <td>56706.000000</td>\n",
       "    </tr>\n",
       "    <tr>\n",
       "      <th>mean</th>\n",
       "      <td>486.235319</td>\n",
       "      <td>490.679999</td>\n",
       "      <td>1.977623</td>\n",
       "      <td>483.287941</td>\n",
       "    </tr>\n",
       "    <tr>\n",
       "      <th>std</th>\n",
       "      <td>96.924995</td>\n",
       "      <td>98.011656</td>\n",
       "      <td>1.502224</td>\n",
       "      <td>4894.567496</td>\n",
       "    </tr>\n",
       "    <tr>\n",
       "      <th>min</th>\n",
       "      <td>194.000000</td>\n",
       "      <td>200.000000</td>\n",
       "      <td>0.817215</td>\n",
       "      <td>2.000000</td>\n",
       "    </tr>\n",
       "    <tr>\n",
       "      <th>25%</th>\n",
       "      <td>399.000000</td>\n",
       "      <td>400.000000</td>\n",
       "      <td>1.370191</td>\n",
       "      <td>172.000000</td>\n",
       "    </tr>\n",
       "    <tr>\n",
       "      <th>50%</th>\n",
       "      <td>497.000000</td>\n",
       "      <td>500.000000</td>\n",
       "      <td>1.742813</td>\n",
       "      <td>297.000000</td>\n",
       "    </tr>\n",
       "    <tr>\n",
       "      <th>75%</th>\n",
       "      <td>591.000000</td>\n",
       "      <td>600.000000</td>\n",
       "      <td>2.214598</td>\n",
       "      <td>454.000000</td>\n",
       "    </tr>\n",
       "    <tr>\n",
       "      <th>max</th>\n",
       "      <td>599.000000</td>\n",
       "      <td>600.000000</td>\n",
       "      <td>30.000000</td>\n",
       "      <td>230964.000000</td>\n",
       "    </tr>\n",
       "  </tbody>\n",
       "</table>\n",
       "</div>"
      ],
      "text/plain": [
       "              start    Car Number      overhead  Trip Duration\n",
       "count  56706.000000  56706.000000  56706.000000   56706.000000\n",
       "mean     486.235319    490.679999      1.977623     483.287941\n",
       "std       96.924995     98.011656      1.502224    4894.567496\n",
       "min      194.000000    200.000000      0.817215       2.000000\n",
       "25%      399.000000    400.000000      1.370191     172.000000\n",
       "50%      497.000000    500.000000      1.742813     297.000000\n",
       "75%      591.000000    600.000000      2.214598     454.000000\n",
       "max      599.000000    600.000000     30.000000  230964.000000"
      ]
     },
     "execution_count": 2,
     "metadata": {},
     "output_type": "execute_result"
    }
   ],
   "source": [
    "df =  pd.read_csv('raw_data.csv')\n",
    "df.columns =[\"start\", \"Car Number\", 'overhead', 'Trip Duration']\n",
    "df.describe()"
   ]
  },
  {
   "cell_type": "code",
   "execution_count": 3,
   "metadata": {},
   "outputs": [],
   "source": [
    "df = df.drop(['start', 'overhead'], axis = 1)\n",
    "gg1 = df.groupby(['Car Number']).mean()\n",
    "gg2 = df.groupby(['Car Number']).median()\n",
    "\n",
    "# ax2.ylim(0, 1600) \n"
   ]
  },
  {
   "cell_type": "code",
   "execution_count": 4,
   "metadata": {},
   "outputs": [
    {
     "data": {
      "text/plain": [
       "Text(0.5, 0, 'Total Car Number in the Simuation')"
      ]
     },
     "execution_count": 4,
     "metadata": {},
     "output_type": "execute_result"
    },
    {
     "data": {
      "image/png": "[encoded data removed]",
      "text/plain": [
       "<Figure size 864x504 with 1 Axes>"
      ]
     },
     "metadata": {
      "needs_background": "light"
     },
     "output_type": "display_data"
    }
   ],
   "source": [
    "\n",
    "ax1 = gg1.plot(y='Trip Duration', label = 'Average', c='g', figsize= (12,7), grid=True, ylim =(200, 800) )\n",
    "ax2  = gg2.plot(y='Trip Duration', label = 'Median', c = 'b', ax=ax1, grid=True)\n",
    "ax2.set_ylabel(\"Duration (in ticks)\")\n",
    "ax2.set_xlabel(\"Total Car Number in the Simuation\")"
   ]
  },
  {
   "cell_type": "code",
   "execution_count": null,
   "metadata": {},
   "outputs": [],
   "source": []
  }
 ],
 "metadata": {
  "kernelspec": {
   "display_name": "Python 3",
   "language": "python",
   "name": "python3"
  },
  "language_info": {
   "codemirror_mode": {
    "name": "ipython",
    "version": 3
   },
   "file_extension": ".py",
   "mimetype": "text/x-python",
   "name": "python",
   "nbconvert_exporter": "python",
   "pygments_lexer": "ipython3",
   "version": "3.6.9"
  }
 },
 "nbformat": 4,
 "nbformat_minor": 4
}
