{
 "cells": [
  {
   "cell_type": "code",
   "execution_count": 1,
   "metadata": {},
   "outputs": [],
   "source": [
    "import pandas as pd \n",
    "import numpy as np \n",
    "import matplotlib.pyplot as plt\n",
    "import seaborn as sns\n",
    "from pylab import plot, show, savefig, xlim, figure,  ylim, legend, boxplot, setp, axes"
   ]
  },
  {
   "cell_type": "code",
   "execution_count": 2,
   "metadata": {},
   "outputs": [],
   "source": [
    "df =  pd.read_csv('raw_data.csv')\n",
    "df.columns =[\"start\", \"Car Number\", 'overhead', 'Trip Duration']"
   ]
  },
  {
   "cell_type": "code",
   "execution_count": 40,
   "metadata": {},
   "outputs": [
    {
     "data": {
      "text/html": [
       "<div>\n",
       "<style scoped>\n",
       "    .dataframe tbody tr th:only-of-type {\n",
       "        vertical-align: middle;\n",
       "    }\n",
       "\n",
       "    .dataframe tbody tr th {\n",
       "        vertical-align: top;\n",
       "    }\n",
       "\n",
       "    .dataframe thead th {\n",
       "        text-align: right;\n",
       "    }\n",
       "</style>\n",
       "<table border=\"1\" class=\"dataframe\">\n",
       "  <thead>\n",
       "    <tr style=\"text-align: right;\">\n",
       "      <th></th>\n",
       "      <th>Car Number</th>\n",
       "      <th>Trip Duration</th>\n",
       "    </tr>\n",
       "  </thead>\n",
       "  <tbody>\n",
       "    <tr>\n",
       "      <th>count</th>\n",
       "      <td>194684.000000</td>\n",
       "      <td>194684.000000</td>\n",
       "    </tr>\n",
       "    <tr>\n",
       "      <th>mean</th>\n",
       "      <td>498.049660</td>\n",
       "      <td>809.655986</td>\n",
       "    </tr>\n",
       "    <tr>\n",
       "      <th>std</th>\n",
       "      <td>162.427938</td>\n",
       "      <td>15460.912356</td>\n",
       "    </tr>\n",
       "    <tr>\n",
       "      <th>min</th>\n",
       "      <td>200.000000</td>\n",
       "      <td>2.000000</td>\n",
       "    </tr>\n",
       "    <tr>\n",
       "      <th>25%</th>\n",
       "      <td>400.000000</td>\n",
       "      <td>173.000000</td>\n",
       "    </tr>\n",
       "    <tr>\n",
       "      <th>50%</th>\n",
       "      <td>500.000000</td>\n",
       "      <td>296.000000</td>\n",
       "    </tr>\n",
       "    <tr>\n",
       "      <th>75%</th>\n",
       "      <td>600.000000</td>\n",
       "      <td>449.000000</td>\n",
       "    </tr>\n",
       "    <tr>\n",
       "      <th>max</th>\n",
       "      <td>900.000000</td>\n",
       "      <td>620586.000000</td>\n",
       "    </tr>\n",
       "  </tbody>\n",
       "</table>\n",
       "</div>"
      ],
      "text/plain": [
       "          Car Number  Trip Duration\n",
       "count  194684.000000  194684.000000\n",
       "mean      498.049660     809.655986\n",
       "std       162.427938   15460.912356\n",
       "min       200.000000       2.000000\n",
       "25%       400.000000     173.000000\n",
       "50%       500.000000     296.000000\n",
       "75%       600.000000     449.000000\n",
       "max       900.000000  620586.000000"
      ]
     },
     "execution_count": 40,
     "metadata": {},
     "output_type": "execute_result"
    }
   ],
   "source": [
    "df.describe()"
   ]
  },
  {
   "cell_type": "code",
   "execution_count": null,
   "metadata": {},
   "outputs": [],
   "source": []
  },
  {
   "cell_type": "code",
   "execution_count": 3,
   "metadata": {},
   "outputs": [],
   "source": [
    "df = df.drop(['start', 'overhead'], axis = 1)\n",
    "gg1 = df.groupby(['Car Number']).mean()\n",
    "gg2 = df.groupby(['Car Number']).median()"
   ]
  },
  {
   "cell_type": "code",
   "execution_count": 39,
   "metadata": {},
   "outputs": [
    {
     "data": {
      "text/plain": [
       "Text(0.5, 0, 'Total Car Number in the Simuation')"
      ]
     },
     "execution_count": 39,
     "metadata": {},
     "output_type": "execute_result"
    },
    {
     "data": {
      "image/png": "[encoded data removed]",
      "text/plain": [
       "<Figure size 504x504 with 1 Axes>"
      ]
     },
     "metadata": {
      "needs_background": "light"
     },
     "output_type": "display_data"
    }
   ],
   "source": [
    "ax1 = gg1.plot(y='Trip Duration', label = 'Average', c='g', figsize= (7,7), grid=True, ylim =(200, 1600) )\n",
    "ax2  = gg2.plot(y='Trip Duration', label = 'Median', c = 'b', ax=ax1, grid=True)\n",
    "ax2.set_ylabel(\"Duration (in ticks)\")\n",
    "ax2.set_xlabel(\"Total Car Number in the Simuation\")\n",
    "# ax2.ylim(0, 1600) \n"
   ]
  },
  {
   "cell_type": "code",
   "execution_count": 46,
   "metadata": {},
   "outputs": [],
   "source": [
    "group = df.groupby(['Car Number'])"
   ]
  },
  {
   "cell_type": "code",
   "execution_count": null,
   "metadata": {},
   "outputs": [],
   "source": []
  },
  {
   "cell_type": "code",
   "execution_count": 47,
   "metadata": {},
   "outputs": [
    {
     "data": {
      "text/html": [
       "<div>\n",
       "<style scoped>\n",
       "    .dataframe tbody tr th:only-of-type {\n",
       "        vertical-align: middle;\n",
       "    }\n",
       "\n",
       "    .dataframe tbody tr th {\n",
       "        vertical-align: top;\n",
       "    }\n",
       "\n",
       "    .dataframe thead tr th {\n",
       "        text-align: left;\n",
       "    }\n",
       "\n",
       "    .dataframe thead tr:last-of-type th {\n",
       "        text-align: right;\n",
       "    }\n",
       "</style>\n",
       "<table border=\"1\" class=\"dataframe\">\n",
       "  <thead>\n",
       "    <tr>\n",
       "      <th></th>\n",
       "      <th colspan=\"8\" halign=\"left\">Trip Duration</th>\n",
       "    </tr>\n",
       "    <tr>\n",
       "      <th></th>\n",
       "      <th>count</th>\n",
       "      <th>mean</th>\n",
       "      <th>std</th>\n",
       "      <th>min</th>\n",
       "      <th>25%</th>\n",
       "      <th>50%</th>\n",
       "      <th>75%</th>\n",
       "      <th>max</th>\n",
       "    </tr>\n",
       "    <tr>\n",
       "      <th>Car Number</th>\n",
       "      <th></th>\n",
       "      <th></th>\n",
       "      <th></th>\n",
       "      <th></th>\n",
       "      <th></th>\n",
       "      <th></th>\n",
       "      <th></th>\n",
       "      <th></th>\n",
       "    </tr>\n",
       "  </thead>\n",
       "  <tbody>\n",
       "    <tr>\n",
       "      <th>200</th>\n",
       "      <td>7896.0</td>\n",
       "      <td>281.898810</td>\n",
       "      <td>155.047264</td>\n",
       "      <td>2.0</td>\n",
       "      <td>162.0</td>\n",
       "      <td>265.0</td>\n",
       "      <td>384.00</td>\n",
       "      <td>922.0</td>\n",
       "    </tr>\n",
       "    <tr>\n",
       "      <th>300</th>\n",
       "      <td>31123.0</td>\n",
       "      <td>1122.800469</td>\n",
       "      <td>19576.397053</td>\n",
       "      <td>2.0</td>\n",
       "      <td>165.0</td>\n",
       "      <td>273.0</td>\n",
       "      <td>397.00</td>\n",
       "      <td>575483.0</td>\n",
       "    </tr>\n",
       "    <tr>\n",
       "      <th>400</th>\n",
       "      <td>44489.0</td>\n",
       "      <td>1501.518173</td>\n",
       "      <td>24631.330297</td>\n",
       "      <td>2.0</td>\n",
       "      <td>169.0</td>\n",
       "      <td>286.0</td>\n",
       "      <td>422.00</td>\n",
       "      <td>610774.0</td>\n",
       "    </tr>\n",
       "    <tr>\n",
       "      <th>500</th>\n",
       "      <td>40691.0</td>\n",
       "      <td>382.982478</td>\n",
       "      <td>2555.606222</td>\n",
       "      <td>3.0</td>\n",
       "      <td>174.5</td>\n",
       "      <td>300.0</td>\n",
       "      <td>454.00</td>\n",
       "      <td>115579.0</td>\n",
       "    </tr>\n",
       "    <tr>\n",
       "      <th>600</th>\n",
       "      <td>30929.0</td>\n",
       "      <td>727.807980</td>\n",
       "      <td>15365.631436</td>\n",
       "      <td>3.0</td>\n",
       "      <td>176.0</td>\n",
       "      <td>308.0</td>\n",
       "      <td>479.00</td>\n",
       "      <td>620586.0</td>\n",
       "    </tr>\n",
       "    <tr>\n",
       "      <th>700</th>\n",
       "      <td>23761.0</td>\n",
       "      <td>382.409663</td>\n",
       "      <td>563.631722</td>\n",
       "      <td>2.0</td>\n",
       "      <td>181.0</td>\n",
       "      <td>321.0</td>\n",
       "      <td>514.00</td>\n",
       "      <td>53363.0</td>\n",
       "    </tr>\n",
       "    <tr>\n",
       "      <th>800</th>\n",
       "      <td>15005.0</td>\n",
       "      <td>404.552749</td>\n",
       "      <td>358.811255</td>\n",
       "      <td>3.0</td>\n",
       "      <td>189.0</td>\n",
       "      <td>338.0</td>\n",
       "      <td>540.00</td>\n",
       "      <td>13219.0</td>\n",
       "    </tr>\n",
       "    <tr>\n",
       "      <th>900</th>\n",
       "      <td>790.0</td>\n",
       "      <td>511.606329</td>\n",
       "      <td>641.907715</td>\n",
       "      <td>9.0</td>\n",
       "      <td>209.0</td>\n",
       "      <td>384.0</td>\n",
       "      <td>610.25</td>\n",
       "      <td>7924.0</td>\n",
       "    </tr>\n",
       "  </tbody>\n",
       "</table>\n",
       "</div>"
      ],
      "text/plain": [
       "           Trip Duration                                                \\\n",
       "                   count         mean           std  min    25%    50%   \n",
       "Car Number                                                               \n",
       "200               7896.0   281.898810    155.047264  2.0  162.0  265.0   \n",
       "300              31123.0  1122.800469  19576.397053  2.0  165.0  273.0   \n",
       "400              44489.0  1501.518173  24631.330297  2.0  169.0  286.0   \n",
       "500              40691.0   382.982478   2555.606222  3.0  174.5  300.0   \n",
       "600              30929.0   727.807980  15365.631436  3.0  176.0  308.0   \n",
       "700              23761.0   382.409663    563.631722  2.0  181.0  321.0   \n",
       "800              15005.0   404.552749    358.811255  3.0  189.0  338.0   \n",
       "900                790.0   511.606329    641.907715  9.0  209.0  384.0   \n",
       "\n",
       "                              \n",
       "               75%       max  \n",
       "Car Number                    \n",
       "200         384.00     922.0  \n",
       "300         397.00  575483.0  \n",
       "400         422.00  610774.0  \n",
       "500         454.00  115579.0  \n",
       "600         479.00  620586.0  \n",
       "700         514.00   53363.0  \n",
       "800         540.00   13219.0  \n",
       "900         610.25    7924.0  "
      ]
     },
     "execution_count": 47,
     "metadata": {},
     "output_type": "execute_result"
    }
   ],
   "source": [
    "group.describe()"
   ]
  },
  {
   "cell_type": "code",
   "execution_count": 43,
   "metadata": {},
   "outputs": [
    {
     "data": {
      "text/plain": [
       "<matplotlib.axes._subplots.AxesSubplot at 0x7faff5619fd0>"
      ]
     },
     "execution_count": 43,
     "metadata": {},
     "output_type": "execute_result"
    },
    {
     "data": {
      "image/png": "[encoded data removed]",
      "text/plain": [
       "<Figure size 432x288 with 1 Axes>"
      ]
     },
     "metadata": {
      "needs_background": "light"
     },
     "output_type": "display_data"
    }
   ],
   "source": [
    "group.plot.hist()"
   ]
  },
  {
   "cell_type": "code",
   "execution_count": 32,
   "metadata": {},
   "outputs": [
    {
     "data": {
      "text/plain": [
       "<matplotlib.axes._subplots.AxesSubplot at 0x7faff5f845c0>"
      ]
     },
     "execution_count": 32,
     "metadata": {},
     "output_type": "execute_result"
    },
    {
     "data": {
      "image/png": "[encoded data removed]",
      "text/plain": [
       "<Figure size 504x504 with 1 Axes>"
      ]
     },
     "metadata": {
      "needs_background": "light"
     },
     "output_type": "display_data"
    }
   ],
   "source": [
    "group.boxplot(subplots = False, figsize= (7,7), grid =True, rot =90)"
   ]
  },
  {
   "cell_type": "code",
   "execution_count": null,
   "metadata": {},
   "outputs": [],
   "source": []
  },
  {
   "cell_type": "code",
   "execution_count": null,
   "metadata": {},
   "outputs": [],
   "source": []
  }
 ],
 "metadata": {
  "kernelspec": {
   "display_name": "Python 3",
   "language": "python",
   "name": "python3"
  },
  "language_info": {
   "codemirror_mode": {
    "name": "ipython",
    "version": 3
   },
   "file_extension": ".py",
   "mimetype": "text/x-python",
   "name": "python",
   "nbconvert_exporter": "python",
   "pygments_lexer": "ipython3",
   "version": "3.6.9"
  }
 },
 "nbformat": 4,
 "nbformat_minor": 4
}
