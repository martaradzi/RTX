{
 "cells": [
  {
   "cell_type": "code",
   "execution_count": 1,
   "metadata": {},
   "outputs": [],
   "source": [
    "import pandas as pd \n",
    "import numpy as np \n",
    "import matplotlib.pyplot as plt\n",
    "import seaborn as sns\n",
    "from pylab import plot, show, savefig, xlim, figure,  ylim, legend, boxplot, setp, axes\n",
    "\n",
    "from sklearn import metrics\n",
    "\n",
    "\n",
    "import copy"
   ]
  },
  {
   "cell_type": "code",
   "execution_count": 2,
   "metadata": {},
   "outputs": [
    {
     "data": {
      "text/html": [
       "<div>\n",
       "<style scoped>\n",
       "    .dataframe tbody tr th:only-of-type {\n",
       "        vertical-align: middle;\n",
       "    }\n",
       "\n",
       "    .dataframe tbody tr th {\n",
       "        vertical-align: top;\n",
       "    }\n",
       "\n",
       "    .dataframe thead th {\n",
       "        text-align: right;\n",
       "    }\n",
       "</style>\n",
       "<table border=\"1\" class=\"dataframe\">\n",
       "  <thead>\n",
       "    <tr style=\"text-align: right;\">\n",
       "      <th></th>\n",
       "      <th>index</th>\n",
       "      <th>totalCarNumber</th>\n",
       "      <th>numberOfTrips</th>\n",
       "      <th>median_overhead</th>\n",
       "      <th>q1_overhead</th>\n",
       "      <th>q3_overhead</th>\n",
       "      <th>p9_overhead</th>\n",
       "    </tr>\n",
       "  </thead>\n",
       "  <tbody>\n",
       "    <tr>\n",
       "      <th>0</th>\n",
       "      <td>0</td>\n",
       "      <td>450</td>\n",
       "      <td>1044</td>\n",
       "      <td>1.679310</td>\n",
       "      <td>1.346303</td>\n",
       "      <td>2.075748</td>\n",
       "      <td>2.517579</td>\n",
       "    </tr>\n",
       "    <tr>\n",
       "      <th>1</th>\n",
       "      <td>1</td>\n",
       "      <td>450</td>\n",
       "      <td>1502</td>\n",
       "      <td>1.745447</td>\n",
       "      <td>1.389847</td>\n",
       "      <td>2.203232</td>\n",
       "      <td>2.755298</td>\n",
       "    </tr>\n",
       "    <tr>\n",
       "      <th>2</th>\n",
       "      <td>2</td>\n",
       "      <td>450</td>\n",
       "      <td>1492</td>\n",
       "      <td>1.722527</td>\n",
       "      <td>1.337932</td>\n",
       "      <td>2.170672</td>\n",
       "      <td>2.719500</td>\n",
       "    </tr>\n",
       "    <tr>\n",
       "      <th>3</th>\n",
       "      <td>3</td>\n",
       "      <td>450</td>\n",
       "      <td>1512</td>\n",
       "      <td>1.706235</td>\n",
       "      <td>1.350705</td>\n",
       "      <td>2.131536</td>\n",
       "      <td>2.705816</td>\n",
       "    </tr>\n",
       "    <tr>\n",
       "      <th>4</th>\n",
       "      <td>4</td>\n",
       "      <td>450</td>\n",
       "      <td>1481</td>\n",
       "      <td>1.671983</td>\n",
       "      <td>1.333558</td>\n",
       "      <td>2.063440</td>\n",
       "      <td>2.520975</td>\n",
       "    </tr>\n",
       "  </tbody>\n",
       "</table>\n",
       "</div>"
      ],
      "text/plain": [
       "   index  totalCarNumber  numberOfTrips  median_overhead  q1_overhead  \\\n",
       "0      0             450           1044         1.679310     1.346303   \n",
       "1      1             450           1502         1.745447     1.389847   \n",
       "2      2             450           1492         1.722527     1.337932   \n",
       "3      3             450           1512         1.706235     1.350705   \n",
       "4      4             450           1481         1.671983     1.333558   \n",
       "\n",
       "   q3_overhead  p9_overhead  \n",
       "0     2.075748     2.517579  \n",
       "1     2.203232     2.755298  \n",
       "2     2.170672     2.719500  \n",
       "3     2.131536     2.705816  \n",
       "4     2.063440     2.520975  "
      ]
     },
     "execution_count": 2,
     "metadata": {},
     "output_type": "execute_result"
    }
   ],
   "source": [
    "df = pd.read_csv('../data.csv')\n",
    "df.head()"
   ]
  },
  {
   "cell_type": "code",
   "execution_count": 3,
   "metadata": {},
   "outputs": [],
   "source": [
    "data_split_modified_z = df[['median_overhead', 'q1_overhead', 'q3_overhead', 'p9_overhead', 'totalCarNumber', 'index']].copy()\n",
    "# data_split_modified_z = data_split_modified_z.iloc[:144, :]\n",
    "data_split_modified_z = data_split_modified_z.to_numpy()\n",
    "# data_split_modified_z_12 = data_split_modified_z.to_numpy()\n",
    "\n",
    "\n",
    "# \"\"\" SIZE 12 \"\"\"\n",
    "data_split_modified_z_12 = np.split(data_split_modified_z, 16)\n",
    "indexes = [] \n",
    "\n",
    "for d in range(len(data_split_modified_z_12)):\n",
    "    ind = []\n",
    "    k = len(data_split_modified_z_12[d])\n",
    "    for i in [0, 1, 2, 3]:\n",
    "        ys = data_split_modified_z_12[d][:,i] \n",
    "        median_y = np.median(ys)\n",
    "        median_absolute_deviation_y = np.median([np.abs(y - median_y) for y in ys])\n",
    "        for y in range(len(data_split_modified_z_12[d])):\n",
    "            modified_z_score = 0.6745 * (data_split_modified_z_12[d][y, i] - median_y) / median_absolute_deviation_y\n",
    "            if np.abs(modified_z_score) > 3.5:\n",
    "                ind.append(y)\n",
    "\n",
    "\n",
    "    data_split_modified_z_12[d] = np.delete(data_split_modified_z_12[d], ind, axis=0)\n",
    "\n",
    "# data_split_modified_z_12 = np.concatenate(data_split_modified_z_12, axis=0)"
   ]
  },
  {
   "cell_type": "code",
   "execution_count": null,
   "metadata": {},
   "outputs": [],
   "source": []
  },
  {
   "cell_type": "code",
   "execution_count": 4,
   "metadata": {},
   "outputs": [],
   "source": [
    "# list_of_dfs = np.split(data_split_modified_z_12, 10) # split data to make the stream\n",
    "k_np = data_split_modified_z_12[0] # this numpy array is used for the initial k-means\n",
    "list_of_dfs_rest = data_split_modified_z_12[1:8] # this data will be clustered using sequential k-means\n",
    "list_of_scores = []\n",
    "k = 3"
   ]
  },
  {
   "cell_type": "code",
   "execution_count": 5,
   "metadata": {},
   "outputs": [],
   "source": [
    "def euclidean_distance(point1, point2):\n",
    "    return np.sqrt(np.sum(point1 - point2)**2)"
   ]
  },
  {
   "cell_type": "code",
   "execution_count": 6,
   "metadata": {},
   "outputs": [],
   "source": [
    "def plot_iteration(data, labels, centrois, iteration):\n",
    "    \n",
    "    axes_labels = ['median_overhead', 'q1_overhead', 'q3_overhead', 'p9_overhead',]\n",
    "    axes_feats = [[(0,1),(0,3),(0,2)],\n",
    "                  [(1,3),(1,2),(2,3)],\n",
    "                 ]\n",
    "    nrows = 2\n",
    "    ncols = 3\n",
    "    figure, axs = plt.subplots(nrows=nrows, ncols=ncols,figsize=(13,7))\n",
    "    figure.suptitle(f'iteration {iteration}', fontsize= 16)\n",
    "    for row in range(nrows):\n",
    "        for col in range(ncols):\n",
    "            feat = axes_feats[row][col]\n",
    "            figure.tight_layout(rect=[0, 0.03, 1, 0.95])\n",
    "            axs[row, col].scatter(data[:, feat[0]], data[:, feat[1]],  c=labels, cmap='rainbow', alpha=0.7)\n",
    "            axs[row, col].set_ylabel(axes_labels[feat[1]])\n",
    "            axs[row, col].set_xlabel(axes_labels[feat[0]])\n",
    "            for i in range(len(centroids)):\n",
    "                axs[row, col].scatter(centroids[i, feat[0]], centroids[i, feat[1]], c='black', marker='x')\n",
    "                \n",
    "    plt.show(figure)\n",
    "    plt.close(figure)"
   ]
  },
  {
   "cell_type": "code",
   "execution_count": 7,
   "metadata": {},
   "outputs": [],
   "source": [
    "def add_new_instance(means, counts, k, instance):\n",
    "    # based on pseudo code from https://www.cs.princeton.edu/courses/archive/fall08/cos436/Duda/C/sk_means.htm\n",
    "    \n",
    "    # distancec of one point to the two clusters\n",
    "    distance_instance_to_clusters = np.zeros(k)\n",
    "    \n",
    "    for i in range(k):\n",
    "        # calculate the distance to each of the cluster means \n",
    "        distance_instance_to_clusters[i] = euclidean_distance(means[i], instance)\n",
    "    \n",
    "    closest_cluster = np.argmin(distance_instance_to_clusters)\n",
    "    \n",
    "    counts[closest_cluster] += 1\n",
    "    \n",
    "    means[closest_cluster] = means[closest_cluster] + (1 / counts[closest_cluster]) * (instance - means[closest_cluster])\n",
    "    \n",
    "    return closest_cluster, means, counts"
   ]
  },
  {
   "cell_type": "code",
   "execution_count": 8,
   "metadata": {},
   "outputs": [],
   "source": [
    "def predict(centroids, data):\n",
    "    distance_instance_to_clusters = np.zeros((len(data), k))\n",
    "    for instance in range(len(data)):\n",
    "        for cluster in range(k):\n",
    "            distance_instance_to_clusters[instance, cluster] = euclidean_distance(data[instance, :-2], centroids[cluster])\n",
    "        labels[instance] = np.argmin(distance_instance_to_clusters[instance])\n",
    "    return labels "
   ]
  },
  {
   "cell_type": "code",
   "execution_count": 9,
   "metadata": {},
   "outputs": [],
   "source": [
    "def plot_progress(data, labels, title, centroids):\n",
    "    figure, axs = plt.subplots(nrows=1, ncols=2,figsize=(14,4))\n",
    "                               \n",
    "    figure.suptitle(f'data {title}/10', fontsize= 16)\n",
    "    \n",
    "    axs[0].scatter(data[:,5], data[:,4], c=labels, cmap='rainbow', alpha=0.7)\n",
    "    axs[0].set_ylabel('Number of cars')\n",
    "    axs[0].set_xlabel('Time')\n",
    "    if title > 7:\n",
    "        axs[0].axvline(x=143, color='g')\n",
    "\n",
    "    axs[1].scatter(data[:,1], data[:,3], c=labels, cmap='rainbow', alpha=0.7)\n",
    "    axs[1].set_ylabel('3rd Quartile')\n",
    "    axs[1].set_xlabel('1st Quartlie')\n",
    "    for i in range(len(centroids)):\n",
    "        axs[1].scatter(centroids[i,1], centroids[i, 3], c='black', marker='x')\n",
    "                               \n",
    "    figure.tight_layout(rect=[0, 0.03, 1, 0.95])\n",
    "    \n",
    "    plt.show(figure)\n",
    "    plt.close(figure)\n"
   ]
  },
  {
   "cell_type": "code",
   "execution_count": 10,
   "metadata": {},
   "outputs": [],
   "source": [
    "def get_sil_score(data, labels):\n",
    "    return metrics.silhouette_score(data, labels, metric='euclidean')"
   ]
  },
  {
   "cell_type": "code",
   "execution_count": 11,
   "metadata": {},
   "outputs": [],
   "source": [
    "def get_cal_score(data, labels):\n",
    "    return metrics.calinski_harabasz_score(data, labels)"
   ]
  },
  {
   "cell_type": "code",
   "execution_count": 12,
   "metadata": {},
   "outputs": [],
   "source": [
    "from sklearn.metrics import davies_bouldin_score\n",
    "\n",
    "def get_davies_score(data, labels):\n",
    "    return davies_bouldin_score(data, labels)"
   ]
  },
  {
   "cell_type": "markdown",
   "metadata": {},
   "source": [
    "# start with classic K-Means algorithm to initialize the clusters"
   ]
  },
  {
   "cell_type": "code",
   "execution_count": 13,
   "metadata": {
    "scrolled": true
   },
   "outputs": [
    {
     "name": "stdout",
     "output_type": "stream",
     "text": [
      "Converged somehow (?) at loop 3\n"
     ]
    }
   ],
   "source": [
    "feat_size = len(k_np[0]) - 2\n",
    "number_of_samples = len(k_np)\n",
    "\n",
    "centroids_old = np.zeros((k, feat_size))\n",
    "centroids = np.zeros((k, feat_size))  # means of all the clusters\n",
    "counts = np.zeros(k) # number of points for each of the cluster\n",
    "\n",
    "labels_new = np.zeros(number_of_samples)\n",
    "\n",
    "random_centroids = np.random.choice(number_of_samples, k, replace = False)\n",
    "\n",
    "# initialize the clusters here\n",
    "for index in range(k):\n",
    "    centroids[index] = k_np[random_centroids[index], :-2]\n",
    "\n",
    "# for loop for max number of iterations:\n",
    "for iteration in range(100):\n",
    "# make clusters    \n",
    "    centroids_old = copy.deepcopy(centroids)\n",
    "    \n",
    "    #distances of each of the samples to each cluster\n",
    "    distance_instance_to_clusters = np.zeros((number_of_samples, k))\n",
    "    for instance in range(number_of_samples):\n",
    "        for cluster in range(k):\n",
    "            distance_instance_to_clusters[instance, cluster] = euclidean_distance(k_np[instance, :-2],centroids[cluster])\n",
    "        # choose closets cluster for that instance\n",
    "        labels_new[instance] = np.argmin(distance_instance_to_clusters[instance])\n",
    "        \n",
    "# update centroids\n",
    "    for i in range(k):\n",
    "        clusters = k_np[labels_new==i, :-2]\n",
    "        centroids[i] = np.mean(clusters, axis=0)\n",
    "\n",
    "# plot each iteration for debugging\n",
    "#     plot_iteration(k_np, labels_new, centroids, iteration)\n",
    "    \n",
    "# check if converged\n",
    "    centroid_distances = [euclidean_distance(centroids_old[i], centroids[i]) for i in range(k)]\n",
    "    if sum(centroid_distances) == 0:\n",
    "        print(f'Converged somehow (?) at loop {iteration+1}')\n",
    "        break\n",
    "        \n",
    "    "
   ]
  },
  {
   "cell_type": "code",
   "execution_count": 14,
   "metadata": {},
   "outputs": [],
   "source": [
    "labels = copy.deepcopy(labels_new)\n",
    "old_data = copy.deepcopy(k_np)\n"
   ]
  },
  {
   "cell_type": "code",
   "execution_count": 15,
   "metadata": {},
   "outputs": [],
   "source": [
    "labels_dict = {}\n",
    "labels_dict[f'fit_1'] = labels\n",
    "list_of_nmpys_for_graphs = []\n",
    "list_of_nmpys_for_graphs.append(old_data)\n",
    "\n",
    "len(list_of_dfs_rest[0])\n",
    "\n",
    "labels_for_plotting = np.zeros(26)\n"
   ]
  },
  {
   "cell_type": "code",
   "execution_count": 16,
   "metadata": {
    "scrolled": true
   },
   "outputs": [],
   "source": [
    "counter = 2\n",
    "s = get_sil_score(old_data[:, :-2], labels_dict[f'fit_1'])\n",
    "c = get_cal_score(old_data[:, :-2], labels_dict[f'fit_1'])\n",
    "d = get_davies_score(old_data[:, :-2], labels_dict[f'fit_1'])\n",
    "list_of_scores.append(s)\n",
    "for set_df in list_of_dfs_rest:\n",
    "    new_data = set_df\n",
    "    for index in range(len(new_data)):\n",
    "        label, centroids, counts = add_new_instance(centroids, counts, k, new_data[index, :-2])\n",
    "        labels = np.append(labels, label)\n",
    "        old_data = np.append(old_data, new_data[index].reshape(1,-1), axis=0)\n",
    "    \n",
    "    labels_dict[f'fit_{counter}'] = predict(centroids,old_data)\n",
    "    list_of_nmpys_for_graphs.append(old_data)\n",
    "#     plot_progress(old_data, labels_dict[f'fit_{counter}'], counter, centroids)\n",
    "    s = get_sil_score(old_data[:, :-2], labels_dict[f'fit_{counter}'])\n",
    "    c = get_cal_score(old_data[:, :-2], labels_dict[f'fit_{counter}'])\n",
    "    d = get_davies_score(old_data[:, :-2], labels_dict[f'fit_{counter}'])\n",
    "    list_of_scores.append(s)\n",
    "    counter+=1"
   ]
  },
  {
   "cell_type": "code",
   "execution_count": 17,
   "metadata": {},
   "outputs": [],
   "source": [
    "# get_sil_score(list_of_nmpys_for_graphs[-1], labels_dict[f'fit_{counter-1}'])"
   ]
  },
  {
   "cell_type": "code",
   "execution_count": 18,
   "metadata": {},
   "outputs": [],
   "source": [
    "# col_counter = 0\n",
    "# row_counter = 0\n",
    "\n",
    "# fit_number = 1\n",
    "\n",
    "# nrows = 2\n",
    "# ncols = 4\n",
    "\n",
    "# figure, axs = plt.subplots(nrows=nrows, ncols=ncols,figsize=(20,7.5))\n",
    "\n",
    "# for i in list_of_nmpys_for_graphs:\n",
    "    \n",
    "# #     numpy_array = i.to_numpy()\n",
    "    \n",
    "#     figure.tight_layout(rect=[0, 0.03, 1, 0.95])\n",
    "    \n",
    "#     axs[row_counter,col_counter].scatter(i[:, 5], i[:, 4], c =labels_dict[f'fit_{fit_number}'], cmap='rainbow', alpha=0.7 )\n",
    "#     axs[row_counter,col_counter].set_xlabel('Time of the day')\n",
    "#     axs[row_counter,col_counter].set_ylim(0, 750)\n",
    "#     axs[row_counter,col_counter].set_ylabel('Car number')\n",
    "#     axs[row_counter,col_counter].set_title(f'Fit {fit_number}')\n",
    "    \n",
    "# #     if fit_number >= 9:\n",
    "# #         axs[row_counter,col_counter].axvline(x=143, color='g')\n",
    "#     if col_counter == (ncols-1):\n",
    "#         col_counter = 0\n",
    "#         row_counter += 1\n",
    "#     else:\n",
    "#         col_counter += 1\n",
    "    \n",
    "#     fit_number += 1"
   ]
  },
  {
   "cell_type": "markdown",
   "metadata": {},
   "source": [
    "# New Model"
   ]
  },
  {
   "cell_type": "code",
   "execution_count": 19,
   "metadata": {},
   "outputs": [],
   "source": [
    "list_of_dfs_rest_2 = data_split_modified_z_12[8:]\n",
    "k_np = list_of_dfs_rest_2[0] # this numpy array is used for the initial k-means\n",
    "list_of_dfs_rest = list_of_dfs_rest_2[1:] # this data will be clustered using sequential k-means\n",
    "list_of_scores = []"
   ]
  },
  {
   "cell_type": "code",
   "execution_count": 20,
   "metadata": {},
   "outputs": [
    {
     "name": "stdout",
     "output_type": "stream",
     "text": [
      "Converged somehow (?) at loop 4\n"
     ]
    }
   ],
   "source": [
    "feat_size = len(k_np[0]) - 2\n",
    "number_of_samples = len(k_np)\n",
    "\n",
    "centroids_old = np.zeros((k, feat_size))\n",
    "centroids = np.zeros((k, feat_size))  # means of all the clusters\n",
    "counts = np.zeros(k) # number of points for each of the cluster\n",
    "\n",
    "labels_new = np.zeros(number_of_samples)\n",
    "\n",
    "random_centroids = np.random.choice(number_of_samples, k, replace = False)\n",
    "\n",
    "# initialize the clusters here\n",
    "for index in range(k):\n",
    "    centroids[index] = k_np[random_centroids[index], :-2]\n",
    "\n",
    "# for loop for max number of iterations:\n",
    "for iteration in range(100):\n",
    "# make clusters    \n",
    "    centroids_old = copy.deepcopy(centroids)\n",
    "    \n",
    "    #distances of each of the samples to each cluster\n",
    "    distance_instance_to_clusters = np.zeros((number_of_samples, k))\n",
    "    for instance in range(number_of_samples):\n",
    "        for cluster in range(k):\n",
    "            distance_instance_to_clusters[instance, cluster] = euclidean_distance(k_np[instance, :-2],centroids[cluster])\n",
    "        # choose closets cluster for that instance\n",
    "        labels_new[instance] = np.argmin(distance_instance_to_clusters[instance])\n",
    "        \n",
    "# update centroids\n",
    "    for i in range(k):\n",
    "        clusters = k_np[labels_new==i, :-2]\n",
    "        centroids[i] = np.mean(clusters, axis=0)\n",
    "\n",
    "# plot each iteration for debugging\n",
    "#     plot_iteration(k_np, labels_new, centroids, iteration)\n",
    "    \n",
    "# check if converged\n",
    "    centroid_distances = [euclidean_distance(centroids_old[i], centroids[i]) for i in range(k)]\n",
    "    if sum(centroid_distances) == 0:\n",
    "        print(f'Converged somehow (?) at loop {iteration+1}')\n",
    "        break"
   ]
  },
  {
   "cell_type": "code",
   "execution_count": 21,
   "metadata": {},
   "outputs": [],
   "source": [
    "labels = copy.deepcopy(labels_new)\n",
    "old_data = copy.deepcopy(k_np)\n",
    "\n",
    "\n",
    "labels_dict = {}\n",
    "labels_dict[f'fit_1'] = labels\n",
    "list_of_nmpys_for_graphs = []\n",
    "list_of_nmpys_for_graphs.append(old_data)\n",
    "\n",
    "len(list_of_dfs_rest[0])\n",
    "\n",
    "labels_for_plotting = np.zeros(26)"
   ]
  },
  {
   "cell_type": "code",
   "execution_count": 22,
   "metadata": {
    "scrolled": true
   },
   "outputs": [],
   "source": [
    "counter = 2\n",
    "s = get_sil_score(old_data[:, :-2], labels_dict[f'fit_1'])\n",
    "list_of_scores.append(s)\n",
    "for set_df in list_of_dfs_rest:\n",
    "    new_data = set_df\n",
    "    for index in range(len(new_data)):\n",
    "        label, centroids, counts = add_new_instance(centroids, counts, k, new_data[index, :-2])\n",
    "        labels = np.append(labels, label)\n",
    "        old_data = np.append(old_data, new_data[index].reshape(1,-1), axis=0)\n",
    "    \n",
    "    labels_dict[f'fit_{counter}'] = predict(centroids,old_data)\n",
    "    list_of_nmpys_for_graphs.append(old_data)\n",
    "    s = get_sil_score(old_data[:, :-2], labels_dict[f'fit_{counter}'])\n",
    "\n",
    "    list_of_scores.append(s)\n",
    "    counter+=1"
   ]
  },
  {
   "cell_type": "code",
   "execution_count": 23,
   "metadata": {},
   "outputs": [
    {
     "data": {
      "image/png": "[encoded data removed]",
      "text/plain": [
       "<Figure size 1440x540 with 8 Axes>"
      ]
     },
     "metadata": {
      "needs_background": "light"
     },
     "output_type": "display_data"
    }
   ],
   "source": [
    "col_counter = 0\n",
    "row_counter = 0\n",
    "\n",
    "fit_number = 1\n",
    "\n",
    "nrows = 2\n",
    "ncols = 4\n",
    "\n",
    "figure, axs = plt.subplots(nrows=nrows, ncols=ncols,figsize=(20,7.5))\n",
    "\n",
    "for i in list_of_nmpys_for_graphs:\n",
    "    \n",
    "#     numpy_array = i.to_numpy()\n",
    "    \n",
    "    figure.tight_layout(rect=[0, 0.03, 1, 0.95])\n",
    "    \n",
    "    axs[row_counter,col_counter].scatter(i[:, 5], i[:, 4], c =labels_dict[f'fit_{fit_number}'], cmap='rainbow', alpha=0.7 )\n",
    "    axs[row_counter,col_counter].set_xlabel('Time of the day')\n",
    "    axs[row_counter,col_counter].set_ylim(0, 750)\n",
    "    axs[row_counter,col_counter].set_ylabel('Car number')\n",
    "    axs[row_counter,col_counter].set_title(f'Fit {fit_number}')\n",
    "    \n",
    "#     if fit_number >= 9:\n",
    "#         axs[row_counter,col_counter].axvline(x=143, color='g')\n",
    "    if col_counter == (ncols-1):\n",
    "        col_counter = 0\n",
    "        row_counter += 1\n",
    "    else:\n",
    "        col_counter += 1\n",
    "    \n",
    "    fit_number += 1"
   ]
  },
  {
   "cell_type": "code",
   "execution_count": 24,
   "metadata": {},
   "outputs": [],
   "source": [
    "# get_sil_score(old_data[:, :-2], labels_dict[f'fit_{counter-1}'])"
   ]
  },
  {
   "cell_type": "code",
   "execution_count": 25,
   "metadata": {},
   "outputs": [
    {
     "name": "stdout",
     "output_type": "stream",
     "text": [
      "0.39691718810678644\n",
      "0.4308358017107581\n",
      "0.3986268041696046\n",
      "0.3993187707118956\n",
      "0.39641183547137493\n",
      "0.4335963558201869\n",
      "0.44217895793845774\n",
      "0.4630678678139274\n"
     ]
    }
   ],
   "source": [
    "for score in list_of_scores:\n",
    "    print(score)\n",
    "# list_of_scores"
   ]
  },
  {
   "cell_type": "code",
   "execution_count": null,
   "metadata": {},
   "outputs": [],
   "source": []
  },
  {
   "cell_type": "code",
   "execution_count": null,
   "metadata": {},
   "outputs": [],
   "source": []
  }
 ],
 "metadata": {
  "kernelspec": {
   "display_name": "Python 3",
   "language": "python",
   "name": "python3"
  },
  "language_info": {
   "codemirror_mode": {
    "name": "ipython",
    "version": 3
   },
   "file_extension": ".py",
   "mimetype": "text/x-python",
   "name": "python",
   "nbconvert_exporter": "python",
   "pygments_lexer": "ipython3",
   "version": "3.6.9"
  }
 },
 "nbformat": 4,
 "nbformat_minor": 4
}
