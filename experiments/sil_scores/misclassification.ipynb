{
 "cells": [
  {
   "cell_type": "code",
   "execution_count": 17,
   "metadata": {},
   "outputs": [],
   "source": [
    "import pandas as pd"
   ]
  },
  {
   "cell_type": "code",
   "execution_count": 18,
   "metadata": {},
   "outputs": [],
   "source": [
    "df = pd.read_csv('missclassified.csv')\n",
    "df.set_index('Fit', inplace = True)"
   ]
  },
  {
   "cell_type": "code",
   "execution_count": 19,
   "metadata": {},
   "outputs": [
    {
     "data": {
      "text/plain": [
       "Index(['0.01', '0.05', '0.1', '0.2', '0.3', '0.5', '2', '3', '4'], dtype='object')"
      ]
     },
     "execution_count": 19,
     "metadata": {},
     "output_type": "execute_result"
    }
   ],
   "source": [
    "df.columns"
   ]
  },
  {
   "cell_type": "code",
   "execution_count": 38,
   "metadata": {},
   "outputs": [],
   "source": [
    "whole = range(18, 289, 18)"
   ]
  },
  {
   "cell_type": "code",
   "execution_count": 29,
   "metadata": {},
   "outputs": [],
   "source": [
    "df['w'] = whole"
   ]
  },
  {
   "cell_type": "code",
   "execution_count": 30,
   "metadata": {},
   "outputs": [],
   "source": [
    "df = df[['0.01', '0.05', '0.1', '0.2', '0.3', '0.5', '2', '3', '4']].div(df.w, axis=0)"
   ]
  },
  {
   "cell_type": "code",
   "execution_count": 32,
   "metadata": {},
   "outputs": [],
   "source": [
    "df.iloc[:,:]  *= 100"
   ]
  },
  {
   "cell_type": "code",
   "execution_count": 35,
   "metadata": {},
   "outputs": [],
   "source": [
    "df = df.round(2)"
   ]
  },
  {
   "cell_type": "code",
   "execution_count": 36,
   "metadata": {},
   "outputs": [
    {
     "data": {
      "text/html": [
       "<div>\n",
       "<style scoped>\n",
       "    .dataframe tbody tr th:only-of-type {\n",
       "        vertical-align: middle;\n",
       "    }\n",
       "\n",
       "    .dataframe tbody tr th {\n",
       "        vertical-align: top;\n",
       "    }\n",
       "\n",
       "    .dataframe thead th {\n",
       "        text-align: right;\n",
       "    }\n",
       "</style>\n",
       "<table border=\"1\" class=\"dataframe\">\n",
       "  <thead>\n",
       "    <tr style=\"text-align: right;\">\n",
       "      <th></th>\n",
       "      <th>0.01</th>\n",
       "      <th>0.05</th>\n",
       "      <th>0.1</th>\n",
       "      <th>0.2</th>\n",
       "      <th>0.3</th>\n",
       "      <th>0.5</th>\n",
       "      <th>2</th>\n",
       "      <th>3</th>\n",
       "      <th>4</th>\n",
       "    </tr>\n",
       "    <tr>\n",
       "      <th>Fit</th>\n",
       "      <th></th>\n",
       "      <th></th>\n",
       "      <th></th>\n",
       "      <th></th>\n",
       "      <th></th>\n",
       "      <th></th>\n",
       "      <th></th>\n",
       "      <th></th>\n",
       "      <th></th>\n",
       "    </tr>\n",
       "  </thead>\n",
       "  <tbody>\n",
       "    <tr>\n",
       "      <th>1</th>\n",
       "      <td>0.0</td>\n",
       "      <td>0.0</td>\n",
       "      <td>0.0</td>\n",
       "      <td>0.00</td>\n",
       "      <td>0.0</td>\n",
       "      <td>NaN</td>\n",
       "      <td>11.11</td>\n",
       "      <td>0.00</td>\n",
       "      <td>0.00</td>\n",
       "    </tr>\n",
       "    <tr>\n",
       "      <th>2</th>\n",
       "      <td>0.0</td>\n",
       "      <td>0.0</td>\n",
       "      <td>0.0</td>\n",
       "      <td>0.00</td>\n",
       "      <td>0.0</td>\n",
       "      <td>NaN</td>\n",
       "      <td>2.78</td>\n",
       "      <td>0.00</td>\n",
       "      <td>2.78</td>\n",
       "    </tr>\n",
       "    <tr>\n",
       "      <th>3</th>\n",
       "      <td>0.0</td>\n",
       "      <td>0.0</td>\n",
       "      <td>0.0</td>\n",
       "      <td>0.00</td>\n",
       "      <td>0.0</td>\n",
       "      <td>NaN</td>\n",
       "      <td>3.70</td>\n",
       "      <td>0.00</td>\n",
       "      <td>3.70</td>\n",
       "    </tr>\n",
       "    <tr>\n",
       "      <th>4</th>\n",
       "      <td>0.0</td>\n",
       "      <td>0.0</td>\n",
       "      <td>0.0</td>\n",
       "      <td>1.39</td>\n",
       "      <td>0.0</td>\n",
       "      <td>NaN</td>\n",
       "      <td>1.39</td>\n",
       "      <td>2.78</td>\n",
       "      <td>12.50</td>\n",
       "    </tr>\n",
       "    <tr>\n",
       "      <th>5</th>\n",
       "      <td>0.0</td>\n",
       "      <td>0.0</td>\n",
       "      <td>0.0</td>\n",
       "      <td>2.22</td>\n",
       "      <td>0.0</td>\n",
       "      <td>NaN</td>\n",
       "      <td>1.11</td>\n",
       "      <td>2.22</td>\n",
       "      <td>8.89</td>\n",
       "    </tr>\n",
       "  </tbody>\n",
       "</table>\n",
       "</div>"
      ],
      "text/plain": [
       "     0.01  0.05  0.1   0.2  0.3  0.5      2     3      4\n",
       "Fit                                                     \n",
       "1     0.0   0.0  0.0  0.00  0.0  NaN  11.11  0.00   0.00\n",
       "2     0.0   0.0  0.0  0.00  0.0  NaN   2.78  0.00   2.78\n",
       "3     0.0   0.0  0.0  0.00  0.0  NaN   3.70  0.00   3.70\n",
       "4     0.0   0.0  0.0  1.39  0.0  NaN   1.39  2.78  12.50\n",
       "5     0.0   0.0  0.0  2.22  0.0  NaN   1.11  2.22   8.89"
      ]
     },
     "execution_count": 36,
     "metadata": {},
     "output_type": "execute_result"
    }
   ],
   "source": [
    "df.head()"
   ]
  },
  {
   "cell_type": "code",
   "execution_count": 37,
   "metadata": {},
   "outputs": [],
   "source": [
    "df_b = df[['0.01', '0.05', '0.1', '0.2', '0.3', '0.5']]\n",
    "df_k = df[['2', '3', '4']]"
   ]
  },
  {
   "cell_type": "code",
   "execution_count": 39,
   "metadata": {},
   "outputs": [
    {
     "name": "stdout",
     "output_type": "stream",
     "text": [
      "\\begin{table}[h!] \n",
      "\\centering\n",
      "\\begin{tabular}{lrrrrrr}\n",
      "\\toprule\n",
      "{} &  0.01 &  0.05 &   0.1 &   0.2 &    0.3 &   0.5 \\\\\n",
      "Fit &       &       &       &       &        &       \\\\\n",
      "\\midrule\n",
      "1   &  0.00 &  0.00 &  0.00 &  0.00 &   0.00 &   NaN \\\\\n",
      "2   &  0.00 &  0.00 &  0.00 &  0.00 &   0.00 &   NaN \\\\\n",
      "3   &  0.00 &  0.00 &  0.00 &  0.00 &   0.00 &   NaN \\\\\n",
      "4   &  0.00 &  0.00 &  0.00 &  1.39 &   0.00 &   NaN \\\\\n",
      "5   &  0.00 &  0.00 &  0.00 &  2.22 &   0.00 &   NaN \\\\\n",
      "6   &  0.00 &  0.00 &  0.00 &  2.78 &   0.00 &   NaN \\\\\n",
      "7   &  0.00 &  0.00 &  0.00 &  5.56 &   0.79 &  2.38 \\\\\n",
      "8   &  0.00 &  0.00 &  0.00 &  4.17 &   0.00 &  2.78 \\\\\n",
      "9   &  1.23 &  1.23 &  1.23 &  1.23 &   2.47 &  1.23 \\\\\n",
      "10  &  1.11 &  1.11 &  1.11 &  1.11 &   2.22 &  1.11 \\\\\n",
      "11  &  2.02 &  2.02 &  2.02 &  2.02 &  10.61 &  7.07 \\\\\n",
      "12  &  1.85 &  1.85 &  1.85 &  1.85 &   5.56 &  1.85 \\\\\n",
      "13  &  1.71 &  1.71 &  1.71 &  1.71 &   1.71 &  1.71 \\\\\n",
      "14  &  1.59 &  1.59 &  1.59 &  1.59 &   2.38 &  1.59 \\\\\n",
      "15  &  2.96 &  2.96 &  2.96 &  2.96 &   2.96 &  2.96 \\\\\n",
      "16  &  3.12 &  3.12 &  3.12 &  3.12 &   3.12 &  2.78 \\\\\n",
      "\\bottomrule\n",
      "\\end{tabular}\n",
      "\n",
      "\\label{tab:}\n",
      " \\caption{}\n",
      "\\end{table}\n"
     ]
    }
   ],
   "source": [
    "print('\\\\begin{table}[h!] \\n\\centering')\n",
    "print(df_b.to_latex(index=True)) \n",
    "print('\\label{tab:}\\n \\caption{}\\n\\end{table}')"
   ]
  },
  {
   "cell_type": "code",
   "execution_count": 40,
   "metadata": {},
   "outputs": [
    {
     "name": "stdout",
     "output_type": "stream",
     "text": [
      "\\begin{table}[h!] \n",
      "\\centering\n",
      "\\begin{tabular}{lrrr}\n",
      "\\toprule\n",
      "{} &      2 &     3 &      4 \\\\\n",
      "Fit &        &       &        \\\\\n",
      "\\midrule\n",
      "1   &  11.11 &  0.00 &   0.00 \\\\\n",
      "2   &   2.78 &  0.00 &   2.78 \\\\\n",
      "3   &   3.70 &  0.00 &   3.70 \\\\\n",
      "4   &   1.39 &  2.78 &  12.50 \\\\\n",
      "5   &   1.11 &  2.22 &   8.89 \\\\\n",
      "6   &   0.00 &  4.63 &  14.81 \\\\\n",
      "7   &   0.79 &  3.97 &  14.29 \\\\\n",
      "8   &   0.69 &  3.47 &  12.50 \\\\\n",
      "9   &   0.62 &  0.62 &   9.88 \\\\\n",
      "10  &   0.56 &  1.11 &   9.44 \\\\\n",
      "11  &   1.01 &  2.02 &   9.09 \\\\\n",
      "12  &   1.39 &  1.85 &   8.33 \\\\\n",
      "13  &   1.71 &  1.71 &   7.69 \\\\\n",
      "14  &   1.59 &  1.59 &   7.94 \\\\\n",
      "15  &   2.59 &  4.44 &   6.67 \\\\\n",
      "16  &   4.17 &  4.17 &   5.56 \\\\\n",
      "\\bottomrule\n",
      "\\end{tabular}\n",
      "\n",
      "\\label{tab:}\n",
      " \\caption{}\n",
      "\\end{table}\n"
     ]
    }
   ],
   "source": [
    "print('\\\\begin{table}[h!] \\n\\centering')\n",
    "print(df_k.to_latex(index=True)) \n",
    "print('\\label{tab:}\\n \\caption{}\\n\\end{table}')"
   ]
  },
  {
   "cell_type": "code",
   "execution_count": null,
   "metadata": {},
   "outputs": [],
   "source": []
  }
 ],
 "metadata": {
  "kernelspec": {
   "display_name": "Python 3",
   "language": "python",
   "name": "python3"
  },
  "language_info": {
   "codemirror_mode": {
    "name": "ipython",
    "version": 3
   },
   "file_extension": ".py",
   "mimetype": "text/x-python",
   "name": "python",
   "nbconvert_exporter": "python",
   "pygments_lexer": "ipython3",
   "version": "3.6.9"
  }
 },
 "nbformat": 4,
 "nbformat_minor": 4
}
