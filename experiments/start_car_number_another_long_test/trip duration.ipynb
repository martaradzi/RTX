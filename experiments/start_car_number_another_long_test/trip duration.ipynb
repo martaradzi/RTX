{
 "cells": [
  {
   "cell_type": "code",
   "execution_count": 1,
   "metadata": {},
   "outputs": [],
   "source": [
    "import pandas as pd \n",
    "import numpy as np \n",
    "import matplotlib.pyplot as plt\n",
    "import seaborn as sns\n",
    "from pylab import plot, show, savefig, xlim, figure,  ylim, legend, boxplot, setp, axes"
   ]
  },
  {
   "cell_type": "code",
   "execution_count": 2,
   "metadata": {},
   "outputs": [],
   "source": [
    "df =  pd.read_csv('raw_data.csv')\n",
    "df.columns =[\"start\", \"Car Number\", 'overhead', 'Trip Duration']"
   ]
  },
  {
   "cell_type": "code",
   "execution_count": 3,
   "metadata": {},
   "outputs": [
    {
     "data": {
      "text/html": [
       "<div>\n",
       "<style scoped>\n",
       "    .dataframe tbody tr th:only-of-type {\n",
       "        vertical-align: middle;\n",
       "    }\n",
       "\n",
       "    .dataframe tbody tr th {\n",
       "        vertical-align: top;\n",
       "    }\n",
       "\n",
       "    .dataframe thead th {\n",
       "        text-align: right;\n",
       "    }\n",
       "</style>\n",
       "<table border=\"1\" class=\"dataframe\">\n",
       "  <thead>\n",
       "    <tr style=\"text-align: right;\">\n",
       "      <th></th>\n",
       "      <th>start</th>\n",
       "      <th>Car Number</th>\n",
       "      <th>overhead</th>\n",
       "      <th>Trip Duration</th>\n",
       "    </tr>\n",
       "  </thead>\n",
       "  <tbody>\n",
       "    <tr>\n",
       "      <th>count</th>\n",
       "      <td>27164.000000</td>\n",
       "      <td>27164.000000</td>\n",
       "      <td>27164.000000</td>\n",
       "      <td>27164.000000</td>\n",
       "    </tr>\n",
       "    <tr>\n",
       "      <th>mean</th>\n",
       "      <td>340.972537</td>\n",
       "      <td>346.116183</td>\n",
       "      <td>2.298263</td>\n",
       "      <td>1774.033721</td>\n",
       "    </tr>\n",
       "    <tr>\n",
       "      <th>std</th>\n",
       "      <td>107.309697</td>\n",
       "      <td>106.795271</td>\n",
       "      <td>3.889331</td>\n",
       "      <td>12190.171560</td>\n",
       "    </tr>\n",
       "    <tr>\n",
       "      <th>min</th>\n",
       "      <td>0.000000</td>\n",
       "      <td>200.000000</td>\n",
       "      <td>0.770963</td>\n",
       "      <td>3.000000</td>\n",
       "    </tr>\n",
       "    <tr>\n",
       "      <th>25%</th>\n",
       "      <td>296.000000</td>\n",
       "      <td>300.000000</td>\n",
       "      <td>1.344300</td>\n",
       "      <td>170.000000</td>\n",
       "    </tr>\n",
       "    <tr>\n",
       "      <th>50%</th>\n",
       "      <td>299.000000</td>\n",
       "      <td>300.000000</td>\n",
       "      <td>1.660191</td>\n",
       "      <td>286.500000</td>\n",
       "    </tr>\n",
       "    <tr>\n",
       "      <th>75%</th>\n",
       "      <td>398.000000</td>\n",
       "      <td>400.000000</td>\n",
       "      <td>2.037444</td>\n",
       "      <td>424.000000</td>\n",
       "    </tr>\n",
       "    <tr>\n",
       "      <th>max</th>\n",
       "      <td>599.000000</td>\n",
       "      <td>600.000000</td>\n",
       "      <td>30.000000</td>\n",
       "      <td>150619.000000</td>\n",
       "    </tr>\n",
       "  </tbody>\n",
       "</table>\n",
       "</div>"
      ],
      "text/plain": [
       "              start    Car Number      overhead  Trip Duration\n",
       "count  27164.000000  27164.000000  27164.000000   27164.000000\n",
       "mean     340.972537    346.116183      2.298263    1774.033721\n",
       "std      107.309697    106.795271      3.889331   12190.171560\n",
       "min        0.000000    200.000000      0.770963       3.000000\n",
       "25%      296.000000    300.000000      1.344300     170.000000\n",
       "50%      299.000000    300.000000      1.660191     286.500000\n",
       "75%      398.000000    400.000000      2.037444     424.000000\n",
       "max      599.000000    600.000000     30.000000  150619.000000"
      ]
     },
     "execution_count": 3,
     "metadata": {},
     "output_type": "execute_result"
    }
   ],
   "source": [
    "df.describe()"
   ]
  },
  {
   "cell_type": "code",
   "execution_count": 4,
   "metadata": {},
   "outputs": [],
   "source": [
    "df = df.drop(['start', 'overhead'], axis = 1)\n",
    "gg1 = df.groupby(['Car Number']).mean()\n",
    "gg2 = df.groupby(['Car Number']).median()"
   ]
  },
  {
   "cell_type": "code",
   "execution_count": 6,
   "metadata": {},
   "outputs": [
    {
     "data": {
      "text/plain": [
       "Text(0.5, 0, 'Total Car Number in the Simuation')"
      ]
     },
     "execution_count": 6,
     "metadata": {},
     "output_type": "execute_result"
    },
    {
     "data": {
      "image/png": "[encoded data removed]",
      "text/plain": [
       "<Figure size 504x504 with 1 Axes>"
      ]
     },
     "metadata": {
      "needs_background": "light"
     },
     "output_type": "display_data"
    }
   ],
   "source": [
    "ax1 = gg1.plot(y='Trip Duration', label = 'Average', c='g', figsize= (7,7), grid=True )\n",
    "ax2  = gg2.plot(y='Trip Duration', label = 'Median', c = 'b', ax=ax1, grid=True)\n",
    "ax2.set_ylabel(\"Duration (in ticks)\")\n",
    "ax2.set_xlabel(\"Total Car Number in the Simuation\")"
   ]
  },
  {
   "cell_type": "code",
   "execution_count": 7,
   "metadata": {},
   "outputs": [
    {
     "data": {
      "text/html": [
       "<div>\n",
       "<style scoped>\n",
       "    .dataframe tbody tr th:only-of-type {\n",
       "        vertical-align: middle;\n",
       "    }\n",
       "\n",
       "    .dataframe tbody tr th {\n",
       "        vertical-align: top;\n",
       "    }\n",
       "\n",
       "    .dataframe thead tr th {\n",
       "        text-align: left;\n",
       "    }\n",
       "\n",
       "    .dataframe thead tr:last-of-type th {\n",
       "        text-align: right;\n",
       "    }\n",
       "</style>\n",
       "<table border=\"1\" class=\"dataframe\">\n",
       "  <thead>\n",
       "    <tr>\n",
       "      <th></th>\n",
       "      <th colspan=\"8\" halign=\"left\">Trip Duration</th>\n",
       "    </tr>\n",
       "    <tr>\n",
       "      <th></th>\n",
       "      <th>count</th>\n",
       "      <th>mean</th>\n",
       "      <th>std</th>\n",
       "      <th>min</th>\n",
       "      <th>25%</th>\n",
       "      <th>50%</th>\n",
       "      <th>75%</th>\n",
       "      <th>max</th>\n",
       "    </tr>\n",
       "    <tr>\n",
       "      <th>Car Number</th>\n",
       "      <th></th>\n",
       "      <th></th>\n",
       "      <th></th>\n",
       "      <th></th>\n",
       "      <th></th>\n",
       "      <th></th>\n",
       "      <th></th>\n",
       "      <th></th>\n",
       "    </tr>\n",
       "  </thead>\n",
       "  <tbody>\n",
       "    <tr>\n",
       "      <th>200</th>\n",
       "      <td>5112.0</td>\n",
       "      <td>280.216941</td>\n",
       "      <td>153.438732</td>\n",
       "      <td>3.0</td>\n",
       "      <td>159.0</td>\n",
       "      <td>263.0</td>\n",
       "      <td>386.0</td>\n",
       "      <td>954.0</td>\n",
       "    </tr>\n",
       "    <tr>\n",
       "      <th>300</th>\n",
       "      <td>10470.0</td>\n",
       "      <td>2306.239351</td>\n",
       "      <td>14311.854625</td>\n",
       "      <td>3.0</td>\n",
       "      <td>169.0</td>\n",
       "      <td>284.0</td>\n",
       "      <td>411.0</td>\n",
       "      <td>147624.0</td>\n",
       "    </tr>\n",
       "    <tr>\n",
       "      <th>400</th>\n",
       "      <td>6471.0</td>\n",
       "      <td>2028.365477</td>\n",
       "      <td>13802.797938</td>\n",
       "      <td>3.0</td>\n",
       "      <td>172.0</td>\n",
       "      <td>298.0</td>\n",
       "      <td>442.0</td>\n",
       "      <td>150619.0</td>\n",
       "    </tr>\n",
       "    <tr>\n",
       "      <th>500</th>\n",
       "      <td>4165.0</td>\n",
       "      <td>1842.552941</td>\n",
       "      <td>11291.707099</td>\n",
       "      <td>4.0</td>\n",
       "      <td>180.0</td>\n",
       "      <td>304.0</td>\n",
       "      <td>466.0</td>\n",
       "      <td>106265.0</td>\n",
       "    </tr>\n",
       "    <tr>\n",
       "      <th>600</th>\n",
       "      <td>946.0</td>\n",
       "      <td>1914.662791</td>\n",
       "      <td>10961.942752</td>\n",
       "      <td>5.0</td>\n",
       "      <td>176.0</td>\n",
       "      <td>311.0</td>\n",
       "      <td>497.0</td>\n",
       "      <td>79196.0</td>\n",
       "    </tr>\n",
       "  </tbody>\n",
       "</table>\n",
       "</div>"
      ],
      "text/plain": [
       "           Trip Duration                                                       \\\n",
       "                   count         mean           std  min    25%    50%    75%   \n",
       "Car Number                                                                      \n",
       "200               5112.0   280.216941    153.438732  3.0  159.0  263.0  386.0   \n",
       "300              10470.0  2306.239351  14311.854625  3.0  169.0  284.0  411.0   \n",
       "400               6471.0  2028.365477  13802.797938  3.0  172.0  298.0  442.0   \n",
       "500               4165.0  1842.552941  11291.707099  4.0  180.0  304.0  466.0   \n",
       "600                946.0  1914.662791  10961.942752  5.0  176.0  311.0  497.0   \n",
       "\n",
       "                      \n",
       "                 max  \n",
       "Car Number            \n",
       "200            954.0  \n",
       "300         147624.0  \n",
       "400         150619.0  \n",
       "500         106265.0  \n",
       "600          79196.0  "
      ]
     },
     "execution_count": 7,
     "metadata": {},
     "output_type": "execute_result"
    }
   ],
   "source": [
    "group = df.groupby(['Car Number'])\n",
    "group.describe()"
   ]
  },
  {
   "cell_type": "code",
   "execution_count": null,
   "metadata": {},
   "outputs": [],
   "source": []
  }
 ],
 "metadata": {
  "kernelspec": {
   "display_name": "Python 3",
   "language": "python",
   "name": "python3"
  },
  "language_info": {
   "codemirror_mode": {
    "name": "ipython",
    "version": 3
   },
   "file_extension": ".py",
   "mimetype": "text/x-python",
   "name": "python",
   "nbconvert_exporter": "python",
   "pygments_lexer": "ipython3",
   "version": "3.6.9"
  }
 },
 "nbformat": 4,
 "nbformat_minor": 4
}
