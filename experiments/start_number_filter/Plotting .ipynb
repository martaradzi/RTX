{
 "cells": [
  {
   "cell_type": "code",
   "execution_count": 1,
   "metadata": {},
   "outputs": [],
   "source": [
    "import pandas as pd \n",
    "import numpy as np \n",
    "import matplotlib.pyplot as plt\n",
    "import seaborn as sns\n",
    "from pylab import plot, show, savefig, xlim, figure,  ylim, legend, boxplot, setp, axes"
   ]
  },
  {
   "cell_type": "code",
   "execution_count": null,
   "metadata": {},
   "outputs": [],
   "source": [
    "df =  pd.read_csv('raw_data.csv')\n",
    "df.columns =[\"start\", \"total\", 'overhead', 'duration']\n",
    "df.head()"
   ]
  },
  {
   "cell_type": "code",
   "execution_count": 3,
   "metadata": {},
   "outputs": [
    {
     "data": {
      "text/plain": [
       "(23793, 4)"
      ]
     },
     "execution_count": 3,
     "metadata": {},
     "output_type": "execute_result"
    }
   ],
   "source": [
    "df.shape"
   ]
  },
  {
   "cell_type": "markdown",
   "metadata": {},
   "source": [
    "## Creating new column to filter the change of the number of cars on"
   ]
  },
  {
   "cell_type": "code",
   "execution_count": 4,
   "metadata": {},
   "outputs": [
    {
     "data": {
      "text/html": [
       "<div>\n",
       "<style scoped>\n",
       "    .dataframe tbody tr th:only-of-type {\n",
       "        vertical-align: middle;\n",
       "    }\n",
       "\n",
       "    .dataframe tbody tr th {\n",
       "        vertical-align: top;\n",
       "    }\n",
       "\n",
       "    .dataframe thead th {\n",
       "        text-align: right;\n",
       "    }\n",
       "</style>\n",
       "<table border=\"1\" class=\"dataframe\">\n",
       "  <thead>\n",
       "    <tr style=\"text-align: right;\">\n",
       "      <th></th>\n",
       "      <th>start</th>\n",
       "      <th>total</th>\n",
       "      <th>overhead</th>\n",
       "      <th>duration</th>\n",
       "      <th>c</th>\n",
       "    </tr>\n",
       "  </thead>\n",
       "  <tbody>\n",
       "    <tr>\n",
       "      <th>0</th>\n",
       "      <td>396</td>\n",
       "      <td>400</td>\n",
       "      <td>1.119461</td>\n",
       "      <td>142</td>\n",
       "      <td>NaN</td>\n",
       "    </tr>\n",
       "    <tr>\n",
       "      <th>715</th>\n",
       "      <td>199</td>\n",
       "      <td>200</td>\n",
       "      <td>1.426029</td>\n",
       "      <td>106</td>\n",
       "      <td>-200.0</td>\n",
       "    </tr>\n",
       "    <tr>\n",
       "      <th>1445</th>\n",
       "      <td>297</td>\n",
       "      <td>300</td>\n",
       "      <td>1.202268</td>\n",
       "      <td>64</td>\n",
       "      <td>100.0</td>\n",
       "    </tr>\n",
       "    <tr>\n",
       "      <th>2466</th>\n",
       "      <td>396</td>\n",
       "      <td>400</td>\n",
       "      <td>1.464065</td>\n",
       "      <td>50</td>\n",
       "      <td>100.0</td>\n",
       "    </tr>\n",
       "    <tr>\n",
       "      <th>3709</th>\n",
       "      <td>497</td>\n",
       "      <td>500</td>\n",
       "      <td>1.181018</td>\n",
       "      <td>27</td>\n",
       "      <td>100.0</td>\n",
       "    </tr>\n",
       "    <tr>\n",
       "      <th>5191</th>\n",
       "      <td>593</td>\n",
       "      <td>600</td>\n",
       "      <td>2.181119</td>\n",
       "      <td>74</td>\n",
       "      <td>100.0</td>\n",
       "    </tr>\n",
       "    <tr>\n",
       "      <th>8389</th>\n",
       "      <td>594</td>\n",
       "      <td>500</td>\n",
       "      <td>1.581930</td>\n",
       "      <td>125</td>\n",
       "      <td>-100.0</td>\n",
       "    </tr>\n",
       "    <tr>\n",
       "      <th>9977</th>\n",
       "      <td>495</td>\n",
       "      <td>400</td>\n",
       "      <td>2.268378</td>\n",
       "      <td>115</td>\n",
       "      <td>-100.0</td>\n",
       "    </tr>\n",
       "    <tr>\n",
       "      <th>11327</th>\n",
       "      <td>397</td>\n",
       "      <td>300</td>\n",
       "      <td>1.967818</td>\n",
       "      <td>223</td>\n",
       "      <td>-100.0</td>\n",
       "    </tr>\n",
       "    <tr>\n",
       "      <th>12428</th>\n",
       "      <td>298</td>\n",
       "      <td>200</td>\n",
       "      <td>1.772368</td>\n",
       "      <td>352</td>\n",
       "      <td>-100.0</td>\n",
       "    </tr>\n",
       "    <tr>\n",
       "      <th>13983</th>\n",
       "      <td>200</td>\n",
       "      <td>300</td>\n",
       "      <td>30.000000</td>\n",
       "      <td>60067</td>\n",
       "      <td>100.0</td>\n",
       "    </tr>\n",
       "    <tr>\n",
       "      <th>14893</th>\n",
       "      <td>398</td>\n",
       "      <td>400</td>\n",
       "      <td>1.176696</td>\n",
       "      <td>46</td>\n",
       "      <td>100.0</td>\n",
       "    </tr>\n",
       "    <tr>\n",
       "      <th>15990</th>\n",
       "      <td>495</td>\n",
       "      <td>500</td>\n",
       "      <td>1.184394</td>\n",
       "      <td>35</td>\n",
       "      <td>100.0</td>\n",
       "    </tr>\n",
       "    <tr>\n",
       "      <th>17275</th>\n",
       "      <td>599</td>\n",
       "      <td>600</td>\n",
       "      <td>1.062830</td>\n",
       "      <td>59</td>\n",
       "      <td>100.0</td>\n",
       "    </tr>\n",
       "    <tr>\n",
       "      <th>20201</th>\n",
       "      <td>594</td>\n",
       "      <td>500</td>\n",
       "      <td>3.391562</td>\n",
       "      <td>257</td>\n",
       "      <td>-100.0</td>\n",
       "    </tr>\n",
       "    <tr>\n",
       "      <th>21695</th>\n",
       "      <td>498</td>\n",
       "      <td>400</td>\n",
       "      <td>1.493582</td>\n",
       "      <td>100</td>\n",
       "      <td>-100.0</td>\n",
       "    </tr>\n",
       "    <tr>\n",
       "      <th>22815</th>\n",
       "      <td>397</td>\n",
       "      <td>300</td>\n",
       "      <td>1.648186</td>\n",
       "      <td>353</td>\n",
       "      <td>-100.0</td>\n",
       "    </tr>\n",
       "    <tr>\n",
       "      <th>23735</th>\n",
       "      <td>296</td>\n",
       "      <td>200</td>\n",
       "      <td>2.168801</td>\n",
       "      <td>158</td>\n",
       "      <td>-100.0</td>\n",
       "    </tr>\n",
       "  </tbody>\n",
       "</table>\n",
       "</div>"
      ],
      "text/plain": [
       "       start  total   overhead  duration      c\n",
       "0        396    400   1.119461       142    NaN\n",
       "715      199    200   1.426029       106 -200.0\n",
       "1445     297    300   1.202268        64  100.0\n",
       "2466     396    400   1.464065        50  100.0\n",
       "3709     497    500   1.181018        27  100.0\n",
       "5191     593    600   2.181119        74  100.0\n",
       "8389     594    500   1.581930       125 -100.0\n",
       "9977     495    400   2.268378       115 -100.0\n",
       "11327    397    300   1.967818       223 -100.0\n",
       "12428    298    200   1.772368       352 -100.0\n",
       "13983    200    300  30.000000     60067  100.0\n",
       "14893    398    400   1.176696        46  100.0\n",
       "15990    495    500   1.184394        35  100.0\n",
       "17275    599    600   1.062830        59  100.0\n",
       "20201    594    500   3.391562       257 -100.0\n",
       "21695    498    400   1.493582       100 -100.0\n",
       "22815    397    300   1.648186       353 -100.0\n",
       "23735    296    200   2.168801       158 -100.0"
      ]
     },
     "execution_count": 4,
     "metadata": {},
     "output_type": "execute_result"
    }
   ],
   "source": [
    "df['c'] = df['total'].diff()\n",
    "df_filtered = df[df['c'] != 0]\n",
    "df_filtered"
   ]
  },
  {
   "cell_type": "code",
   "execution_count": 5,
   "metadata": {},
   "outputs": [
    {
     "name": "stdout",
     "output_type": "stream",
     "text": [
      "18\n",
      "[0, 715, 1445, 2466, 3709, 5191, 8389, 9977, 11327, 12428, 13983, 14893, 15990, 17275, 20201, 21695, 22815, 23735]\n"
     ]
    }
   ],
   "source": [
    "index_list = df_filtered.index.tolist() # list of the start poisitions of index for change of values \n",
    "print(len(index_list))\n",
    "print(index_list)"
   ]
  },
  {
   "cell_type": "code",
   "execution_count": 6,
   "metadata": {},
   "outputs": [],
   "source": [
    "l_mod = index_list + [max(index_list)+1] # creating a list of indexes to iterate over (must have 0 in it)\n",
    "list_of_dfs = [df.iloc[l_mod[n]:l_mod[n+1]] for n in range(len(l_mod)-1)] # creating a list of dfs for each index"
   ]
  },
  {
   "cell_type": "code",
   "execution_count": 26,
   "metadata": {},
   "outputs": [],
   "source": [
    "df2, df3, df4,df5,df6 = [], [], [], [],[] # creating new arrays for separate car numbers"
   ]
  },
  {
   "cell_type": "code",
   "execution_count": 27,
   "metadata": {},
   "outputs": [],
   "source": [
    "for i in list_of_dfs:\n",
    "    x = i['overhead'].tolist()\n",
    "    if 200 == i['total'].iloc[0]:\n",
    "        df2.append(x)\n",
    "    elif 300 == i['total'].iloc[0]:\n",
    "        df3.append(x)\n",
    "    elif 400 == i['total'].iloc[0]:\n",
    "        df4.append(x)\n",
    "    elif 500 == i['total'].iloc[0]:\n",
    "        df5.append(x)\n",
    "    elif 600 == i['total'].iloc[0]:\n",
    "        df6.append(x)"
   ]
  },
  {
   "cell_type": "code",
   "execution_count": 66,
   "metadata": {},
   "outputs": [
    {
     "data": {
      "text/plain": [
       "[2.1688007071242152]"
      ]
     },
     "execution_count": 66,
     "metadata": {},
     "output_type": "execute_result"
    }
   ],
   "source": [
    "df2[2]"
   ]
  },
  {
   "cell_type": "code",
   "execution_count": 67,
   "metadata": {},
   "outputs": [],
   "source": [
    "A = [df2[0], df2[1]]\n",
    "B = [df3[0], df3[1], df3[2], df3[3]]\n",
    "C = [df4[0], df4[1], df4[2], df4[3], df4[4]]\n",
    "D = [df5[0], df5[1], df5[2], df5[3]]\n",
    "E = [df6[0], df6[1]]"
   ]
  },
  {
   "cell_type": "code",
   "execution_count": 73,
   "metadata": {},
   "outputs": [
    {
     "data": {
      "image/png": "[encoded data removed]",
      "text/plain": [
       "<Figure size 1296x720 with 1 Axes>"
      ]
     },
     "metadata": {},
     "output_type": "display_data"
    }
   ],
   "source": [
    "fig = figure(figsize=(18, 10))\n",
    "ax = axes()\n",
    "# hold(True)\n",
    "\n",
    "bp = boxplot(A, positions = [1, 2], widths = 0.6)\n",
    "\n",
    "bp = boxplot(B, positions = [5, 6, 7, 8], widths = 0.6)\n",
    "\n",
    "bp = boxplot(C, positions = [10, 11,12,13,14], widths = 0.6)\n",
    "\n",
    "bp = boxplot(D, positions = [16,17,18,19], widths = 0.6)\n",
    "\n",
    "bp = boxplot(E, positions = [21, 22], widths = 0.6)\n",
    "\n",
    "\n",
    "# set axes limits and labels\n",
    "xlim(0,23)\n",
    "ylim(0,14)\n",
    "ax.set_xticklabels(['200', '300', '400', '500', '600'])\n",
    "ax.set_xticks([1.5, 6.5, 12, 17.5, 21.5])\n",
    "\n",
    "# draw temporary red and blue lines and use them to create a legend\n",
    "# hB, = plot([1,1],'b-')\n",
    "# hR, = plot([1,1],'r-')\n",
    "# legend((hB, hR),('Apples', 'Oranges'))\n",
    "# hB.set_visible(False)\n",
    "# hR.set_visible(False)\n",
    "\n",
    "savefig('boxcompare.png')\n",
    "show()"
   ]
  },
  {
   "cell_type": "code",
   "execution_count": null,
   "metadata": {},
   "outputs": [],
   "source": []
  },
  {
   "cell_type": "code",
   "execution_count": null,
   "metadata": {},
   "outputs": [],
   "source": []
  }
 ],
 "metadata": {
  "kernelspec": {
   "display_name": "Python 3",
   "language": "python",
   "name": "python3"
  },
  "language_info": {
   "codemirror_mode": {
    "name": "ipython",
    "version": 3
   },
   "file_extension": ".py",
   "mimetype": "text/x-python",
   "name": "python",
   "nbconvert_exporter": "python",
   "pygments_lexer": "ipython3",
   "version": "3.6.9"
  }
 },
 "nbformat": 4,
 "nbformat_minor": 2
}
