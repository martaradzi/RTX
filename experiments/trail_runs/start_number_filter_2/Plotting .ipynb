{
 "cells": [
  {
   "cell_type": "code",
   "execution_count": 1,
   "metadata": {},
   "outputs": [],
   "source": [
    "import pandas as pd \n",
    "import numpy as np \n",
    "import matplotlib.pyplot as plt\n",
    "import seaborn as sns\n",
    "from pylab import plot, show, savefig, xlim, figure,  ylim, legend, boxplot, setp, axes"
   ]
  },
  {
   "cell_type": "code",
   "execution_count": 2,
   "metadata": {},
   "outputs": [
    {
     "data": {
      "text/html": [
       "<div>\n",
       "<style scoped>\n",
       "    .dataframe tbody tr th:only-of-type {\n",
       "        vertical-align: middle;\n",
       "    }\n",
       "\n",
       "    .dataframe tbody tr th {\n",
       "        vertical-align: top;\n",
       "    }\n",
       "\n",
       "    .dataframe thead th {\n",
       "        text-align: right;\n",
       "    }\n",
       "</style>\n",
       "<table border=\"1\" class=\"dataframe\">\n",
       "  <thead>\n",
       "    <tr style=\"text-align: right;\">\n",
       "      <th></th>\n",
       "      <th>start</th>\n",
       "      <th>total</th>\n",
       "      <th>overhead</th>\n",
       "      <th>duration</th>\n",
       "    </tr>\n",
       "  </thead>\n",
       "  <tbody>\n",
       "    <tr>\n",
       "      <th>0</th>\n",
       "      <td>197</td>\n",
       "      <td>200</td>\n",
       "      <td>2.175905</td>\n",
       "      <td>229</td>\n",
       "    </tr>\n",
       "    <tr>\n",
       "      <th>1</th>\n",
       "      <td>199</td>\n",
       "      <td>200</td>\n",
       "      <td>1.781835</td>\n",
       "      <td>372</td>\n",
       "    </tr>\n",
       "    <tr>\n",
       "      <th>2</th>\n",
       "      <td>199</td>\n",
       "      <td>200</td>\n",
       "      <td>1.035544</td>\n",
       "      <td>109</td>\n",
       "    </tr>\n",
       "    <tr>\n",
       "      <th>3</th>\n",
       "      <td>199</td>\n",
       "      <td>200</td>\n",
       "      <td>1.117505</td>\n",
       "      <td>65</td>\n",
       "    </tr>\n",
       "    <tr>\n",
       "      <th>4</th>\n",
       "      <td>198</td>\n",
       "      <td>200</td>\n",
       "      <td>1.502414</td>\n",
       "      <td>343</td>\n",
       "    </tr>\n",
       "  </tbody>\n",
       "</table>\n",
       "</div>"
      ],
      "text/plain": [
       "   start  total  overhead  duration\n",
       "0    197    200  2.175905       229\n",
       "1    199    200  1.781835       372\n",
       "2    199    200  1.035544       109\n",
       "3    199    200  1.117505        65\n",
       "4    198    200  1.502414       343"
      ]
     },
     "execution_count": 2,
     "metadata": {},
     "output_type": "execute_result"
    }
   ],
   "source": [
    "df =  pd.read_csv('raw_data.csv')\n",
    "df.columns =[\"start\", \"total\", 'overhead', 'duration']\n",
    "df.head()"
   ]
  },
  {
   "cell_type": "code",
   "execution_count": 3,
   "metadata": {},
   "outputs": [
    {
     "data": {
      "text/plain": [
       "(26555, 4)"
      ]
     },
     "execution_count": 3,
     "metadata": {},
     "output_type": "execute_result"
    }
   ],
   "source": [
    "df.shape"
   ]
  },
  {
   "cell_type": "markdown",
   "metadata": {},
   "source": [
    "## Creating new column to filter the change of the number of cars on"
   ]
  },
  {
   "cell_type": "code",
   "execution_count": 4,
   "metadata": {},
   "outputs": [
    {
     "data": {
      "text/html": [
       "<div>\n",
       "<style scoped>\n",
       "    .dataframe tbody tr th:only-of-type {\n",
       "        vertical-align: middle;\n",
       "    }\n",
       "\n",
       "    .dataframe tbody tr th {\n",
       "        vertical-align: top;\n",
       "    }\n",
       "\n",
       "    .dataframe thead th {\n",
       "        text-align: right;\n",
       "    }\n",
       "</style>\n",
       "<table border=\"1\" class=\"dataframe\">\n",
       "  <thead>\n",
       "    <tr style=\"text-align: right;\">\n",
       "      <th></th>\n",
       "      <th>start</th>\n",
       "      <th>total</th>\n",
       "      <th>overhead</th>\n",
       "      <th>duration</th>\n",
       "      <th>c</th>\n",
       "    </tr>\n",
       "  </thead>\n",
       "  <tbody>\n",
       "    <tr>\n",
       "      <th>0</th>\n",
       "      <td>197</td>\n",
       "      <td>200</td>\n",
       "      <td>2.175905</td>\n",
       "      <td>229</td>\n",
       "      <td>NaN</td>\n",
       "    </tr>\n",
       "    <tr>\n",
       "      <th>1357</th>\n",
       "      <td>294</td>\n",
       "      <td>300</td>\n",
       "      <td>2.489857</td>\n",
       "      <td>56</td>\n",
       "      <td>100.0</td>\n",
       "    </tr>\n",
       "    <tr>\n",
       "      <th>2523</th>\n",
       "      <td>387</td>\n",
       "      <td>400</td>\n",
       "      <td>1.352314</td>\n",
       "      <td>81</td>\n",
       "      <td>100.0</td>\n",
       "    </tr>\n",
       "    <tr>\n",
       "      <th>3939</th>\n",
       "      <td>498</td>\n",
       "      <td>500</td>\n",
       "      <td>1.194267</td>\n",
       "      <td>71</td>\n",
       "      <td>100.0</td>\n",
       "    </tr>\n",
       "    <tr>\n",
       "      <th>5654</th>\n",
       "      <td>594</td>\n",
       "      <td>600</td>\n",
       "      <td>1.208732</td>\n",
       "      <td>27</td>\n",
       "      <td>100.0</td>\n",
       "    </tr>\n",
       "    <tr>\n",
       "      <th>9354</th>\n",
       "      <td>496</td>\n",
       "      <td>500</td>\n",
       "      <td>2.590197</td>\n",
       "      <td>136</td>\n",
       "      <td>-100.0</td>\n",
       "    </tr>\n",
       "    <tr>\n",
       "      <th>11033</th>\n",
       "      <td>396</td>\n",
       "      <td>400</td>\n",
       "      <td>1.205801</td>\n",
       "      <td>19</td>\n",
       "      <td>-100.0</td>\n",
       "    </tr>\n",
       "    <tr>\n",
       "      <th>12481</th>\n",
       "      <td>296</td>\n",
       "      <td>300</td>\n",
       "      <td>1.528362</td>\n",
       "      <td>117</td>\n",
       "      <td>-100.0</td>\n",
       "    </tr>\n",
       "    <tr>\n",
       "      <th>13679</th>\n",
       "      <td>197</td>\n",
       "      <td>200</td>\n",
       "      <td>1.512477</td>\n",
       "      <td>73</td>\n",
       "      <td>-100.0</td>\n",
       "    </tr>\n",
       "    <tr>\n",
       "      <th>15303</th>\n",
       "      <td>298</td>\n",
       "      <td>300</td>\n",
       "      <td>1.277110</td>\n",
       "      <td>140</td>\n",
       "      <td>100.0</td>\n",
       "    </tr>\n",
       "    <tr>\n",
       "      <th>16368</th>\n",
       "      <td>300</td>\n",
       "      <td>400</td>\n",
       "      <td>30.000000</td>\n",
       "      <td>65046</td>\n",
       "      <td>100.0</td>\n",
       "    </tr>\n",
       "    <tr>\n",
       "      <th>17717</th>\n",
       "      <td>496</td>\n",
       "      <td>500</td>\n",
       "      <td>1.699703</td>\n",
       "      <td>63</td>\n",
       "      <td>100.0</td>\n",
       "    </tr>\n",
       "    <tr>\n",
       "      <th>19215</th>\n",
       "      <td>576</td>\n",
       "      <td>600</td>\n",
       "      <td>1.051821</td>\n",
       "      <td>57</td>\n",
       "      <td>100.0</td>\n",
       "    </tr>\n",
       "    <tr>\n",
       "      <th>22552</th>\n",
       "      <td>496</td>\n",
       "      <td>500</td>\n",
       "      <td>1.165459</td>\n",
       "      <td>87</td>\n",
       "      <td>-100.0</td>\n",
       "    </tr>\n",
       "    <tr>\n",
       "      <th>24058</th>\n",
       "      <td>398</td>\n",
       "      <td>400</td>\n",
       "      <td>1.000000</td>\n",
       "      <td>9</td>\n",
       "      <td>-100.0</td>\n",
       "    </tr>\n",
       "    <tr>\n",
       "      <th>25407</th>\n",
       "      <td>298</td>\n",
       "      <td>300</td>\n",
       "      <td>1.056395</td>\n",
       "      <td>53</td>\n",
       "      <td>-100.0</td>\n",
       "    </tr>\n",
       "    <tr>\n",
       "      <th>26521</th>\n",
       "      <td>199</td>\n",
       "      <td>200</td>\n",
       "      <td>1.527093</td>\n",
       "      <td>34</td>\n",
       "      <td>-100.0</td>\n",
       "    </tr>\n",
       "  </tbody>\n",
       "</table>\n",
       "</div>"
      ],
      "text/plain": [
       "       start  total   overhead  duration      c\n",
       "0        197    200   2.175905       229    NaN\n",
       "1357     294    300   2.489857        56  100.0\n",
       "2523     387    400   1.352314        81  100.0\n",
       "3939     498    500   1.194267        71  100.0\n",
       "5654     594    600   1.208732        27  100.0\n",
       "9354     496    500   2.590197       136 -100.0\n",
       "11033    396    400   1.205801        19 -100.0\n",
       "12481    296    300   1.528362       117 -100.0\n",
       "13679    197    200   1.512477        73 -100.0\n",
       "15303    298    300   1.277110       140  100.0\n",
       "16368    300    400  30.000000     65046  100.0\n",
       "17717    496    500   1.699703        63  100.0\n",
       "19215    576    600   1.051821        57  100.0\n",
       "22552    496    500   1.165459        87 -100.0\n",
       "24058    398    400   1.000000         9 -100.0\n",
       "25407    298    300   1.056395        53 -100.0\n",
       "26521    199    200   1.527093        34 -100.0"
      ]
     },
     "execution_count": 4,
     "metadata": {},
     "output_type": "execute_result"
    }
   ],
   "source": [
    "df['c'] = df['total'].diff()\n",
    "df_filtered = df[df['c'] != 0]\n",
    "df_filtered"
   ]
  },
  {
   "cell_type": "code",
   "execution_count": 5,
   "metadata": {},
   "outputs": [
    {
     "name": "stdout",
     "output_type": "stream",
     "text": [
      "17\n",
      "[0, 1357, 2523, 3939, 5654, 9354, 11033, 12481, 13679, 15303, 16368, 17717, 19215, 22552, 24058, 25407, 26521]\n"
     ]
    }
   ],
   "source": [
    "index_list = df_filtered.index.tolist() # list of the start poisitions of index for change of values \n",
    "print(len(index_list))\n",
    "print(index_list)"
   ]
  },
  {
   "cell_type": "code",
   "execution_count": 6,
   "metadata": {},
   "outputs": [],
   "source": [
    "l_mod = index_list + [max(index_list)+1] # creating a list of indexes to iterate over (must have 0 in it)\n",
    "list_of_dfs = [df.iloc[l_mod[n]:l_mod[n+1]] for n in range(len(l_mod)-1)] # creating a list of dfs for each index"
   ]
  },
  {
   "cell_type": "code",
   "execution_count": 7,
   "metadata": {},
   "outputs": [],
   "source": [
    "df2, df3, df4,df5,df6 = [], [], [], [],[] # creating new arrays for separate car numbers"
   ]
  },
  {
   "cell_type": "code",
   "execution_count": 8,
   "metadata": {},
   "outputs": [],
   "source": [
    "for i in list_of_dfs:\n",
    "    x = i['overhead'].tolist()\n",
    "    if 200 == i['total'].iloc[0]:\n",
    "        df2.append(x)\n",
    "    elif 300 == i['total'].iloc[0]:\n",
    "        df3.append(x)\n",
    "    elif 400 == i['total'].iloc[0]:\n",
    "        df4.append(x)\n",
    "    elif 500 == i['total'].iloc[0]:\n",
    "        df5.append(x)\n",
    "    elif 600 == i['total'].iloc[0]:\n",
    "        df6.append(x)"
   ]
  },
  {
   "cell_type": "code",
   "execution_count": 17,
   "metadata": {},
   "outputs": [
    {
     "data": {
      "text/plain": [
       "2"
      ]
     },
     "execution_count": 17,
     "metadata": {},
     "output_type": "execute_result"
    }
   ],
   "source": [
    "len(df6)"
   ]
  },
  {
   "cell_type": "code",
   "execution_count": 18,
   "metadata": {},
   "outputs": [],
   "source": [
    "A = [df2[0], df2[1]]\n",
    "B = [df3[0], df3[1], df3[2], df3[3]]\n",
    "C = [df4[0], df4[1], df4[2], df4[3]]\n",
    "D = [df5[0], df5[1], df5[2], df5[3]]\n",
    "E = [df6[0], df6[1]]"
   ]
  },
  {
   "cell_type": "code",
   "execution_count": 20,
   "metadata": {},
   "outputs": [
    {
     "data": {
      "image/png": "[encoded data removed]",
      "text/plain": [
       "<Figure size 1296x720 with 1 Axes>"
      ]
     },
     "metadata": {},
     "output_type": "display_data"
    }
   ],
   "source": [
    "fig = figure(figsize=(18, 10))\n",
    "ax = axes()\n",
    "# hold(True)\n",
    "\n",
    "bp = boxplot(A, positions = [1, 2], widths = 0.6)\n",
    "\n",
    "bp = boxplot(B, positions = [5, 6, 7, 8], widths = 0.6)\n",
    "\n",
    "bp = boxplot(C, positions = [10, 11,12,13], widths = 0.6)\n",
    "\n",
    "bp = boxplot(D, positions = [16,17,18,19], widths = 0.6)\n",
    "\n",
    "bp = boxplot(E, positions = [21, 22], widths = 0.6)\n",
    "\n",
    "\n",
    "# set axes limits and labels\n",
    "xlim(0,23)\n",
    "ylim(0,14)\n",
    "ax.set_xticklabels(['200', '300', '400', '500', '600'])\n",
    "ax.set_xticks([1.5, 6.5, 12, 17.5, 21.5])\n",
    "\n",
    "# draw temporary red and blue lines and use them to create a legend\n",
    "# hB, = plot([1,1],'b-')\n",
    "# hR, = plot([1,1],'r-')\n",
    "# legend((hB, hR),('Apples', 'Oranges'))\n",
    "# hB.set_visible(False)\n",
    "# hR.set_visible(False)\n",
    "\n",
    "savefig('boxcompare.png')\n",
    "show()"
   ]
  },
  {
   "cell_type": "code",
   "execution_count": null,
   "metadata": {},
   "outputs": [],
   "source": []
  },
  {
   "cell_type": "code",
   "execution_count": null,
   "metadata": {},
   "outputs": [],
   "source": []
  }
 ],
 "metadata": {
  "kernelspec": {
   "display_name": "Python 3",
   "language": "python",
   "name": "python3"
  },
  "language_info": {
   "codemirror_mode": {
    "name": "ipython",
    "version": 3
   },
   "file_extension": ".py",
   "mimetype": "text/x-python",
   "name": "python",
   "nbconvert_exporter": "python",
   "pygments_lexer": "ipython3",
   "version": "3.6.9"
  }
 },
 "nbformat": 4,
 "nbformat_minor": 2
}
