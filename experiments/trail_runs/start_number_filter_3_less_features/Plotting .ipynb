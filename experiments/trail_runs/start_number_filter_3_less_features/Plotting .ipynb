{
 "cells": [
  {
   "cell_type": "code",
   "execution_count": 1,
   "metadata": {},
   "outputs": [],
   "source": [
    "import pandas as pd \n",
    "import numpy as np \n",
    "import matplotlib.pyplot as plt\n",
    "import seaborn as sns\n",
    "from pylab import plot, show, savefig, xlim, figure,  ylim, legend, boxplot, setp, axes"
   ]
  },
  {
   "cell_type": "code",
   "execution_count": 2,
   "metadata": {},
   "outputs": [
    {
     "data": {
      "text/html": [
       "<div>\n",
       "<style scoped>\n",
       "    .dataframe tbody tr th:only-of-type {\n",
       "        vertical-align: middle;\n",
       "    }\n",
       "\n",
       "    .dataframe tbody tr th {\n",
       "        vertical-align: top;\n",
       "    }\n",
       "\n",
       "    .dataframe thead th {\n",
       "        text-align: right;\n",
       "    }\n",
       "</style>\n",
       "<table border=\"1\" class=\"dataframe\">\n",
       "  <thead>\n",
       "    <tr style=\"text-align: right;\">\n",
       "      <th></th>\n",
       "      <th>start</th>\n",
       "      <th>total</th>\n",
       "      <th>overhead</th>\n",
       "      <th>duration</th>\n",
       "    </tr>\n",
       "  </thead>\n",
       "  <tbody>\n",
       "    <tr>\n",
       "      <th>0</th>\n",
       "      <td>198</td>\n",
       "      <td>200</td>\n",
       "      <td>1.424500</td>\n",
       "      <td>243</td>\n",
       "    </tr>\n",
       "    <tr>\n",
       "      <th>1</th>\n",
       "      <td>199</td>\n",
       "      <td>200</td>\n",
       "      <td>1.981328</td>\n",
       "      <td>463</td>\n",
       "    </tr>\n",
       "    <tr>\n",
       "      <th>2</th>\n",
       "      <td>198</td>\n",
       "      <td>200</td>\n",
       "      <td>1.232231</td>\n",
       "      <td>27</td>\n",
       "    </tr>\n",
       "    <tr>\n",
       "      <th>3</th>\n",
       "      <td>198</td>\n",
       "      <td>200</td>\n",
       "      <td>1.809274</td>\n",
       "      <td>412</td>\n",
       "    </tr>\n",
       "    <tr>\n",
       "      <th>4</th>\n",
       "      <td>198</td>\n",
       "      <td>200</td>\n",
       "      <td>2.235747</td>\n",
       "      <td>291</td>\n",
       "    </tr>\n",
       "  </tbody>\n",
       "</table>\n",
       "</div>"
      ],
      "text/plain": [
       "   start  total  overhead  duration\n",
       "0    198    200  1.424500       243\n",
       "1    199    200  1.981328       463\n",
       "2    198    200  1.232231        27\n",
       "3    198    200  1.809274       412\n",
       "4    198    200  2.235747       291"
      ]
     },
     "execution_count": 2,
     "metadata": {},
     "output_type": "execute_result"
    }
   ],
   "source": [
    "df =  pd.read_csv('raw_data.csv')\n",
    "df.columns =[\"start\", \"total\", 'overhead', 'duration']\n",
    "df.head()"
   ]
  },
  {
   "cell_type": "code",
   "execution_count": 3,
   "metadata": {},
   "outputs": [
    {
     "data": {
      "text/plain": [
       "(22882, 4)"
      ]
     },
     "execution_count": 3,
     "metadata": {},
     "output_type": "execute_result"
    }
   ],
   "source": [
    "df.shape"
   ]
  },
  {
   "cell_type": "markdown",
   "metadata": {},
   "source": [
    "## Creating new column to filter the change of the number of cars on"
   ]
  },
  {
   "cell_type": "code",
   "execution_count": 4,
   "metadata": {},
   "outputs": [
    {
     "data": {
      "text/html": [
       "<div>\n",
       "<style scoped>\n",
       "    .dataframe tbody tr th:only-of-type {\n",
       "        vertical-align: middle;\n",
       "    }\n",
       "\n",
       "    .dataframe tbody tr th {\n",
       "        vertical-align: top;\n",
       "    }\n",
       "\n",
       "    .dataframe thead th {\n",
       "        text-align: right;\n",
       "    }\n",
       "</style>\n",
       "<table border=\"1\" class=\"dataframe\">\n",
       "  <thead>\n",
       "    <tr style=\"text-align: right;\">\n",
       "      <th></th>\n",
       "      <th>start</th>\n",
       "      <th>total</th>\n",
       "      <th>overhead</th>\n",
       "      <th>duration</th>\n",
       "      <th>c</th>\n",
       "    </tr>\n",
       "  </thead>\n",
       "  <tbody>\n",
       "    <tr>\n",
       "      <th>0</th>\n",
       "      <td>198</td>\n",
       "      <td>200</td>\n",
       "      <td>1.424500</td>\n",
       "      <td>243</td>\n",
       "      <td>NaN</td>\n",
       "    </tr>\n",
       "    <tr>\n",
       "      <th>1099</th>\n",
       "      <td>200</td>\n",
       "      <td>300</td>\n",
       "      <td>30.000000</td>\n",
       "      <td>10016</td>\n",
       "      <td>100.0</td>\n",
       "    </tr>\n",
       "    <tr>\n",
       "      <th>2111</th>\n",
       "      <td>396</td>\n",
       "      <td>400</td>\n",
       "      <td>1.674427</td>\n",
       "      <td>17</td>\n",
       "      <td>100.0</td>\n",
       "    </tr>\n",
       "    <tr>\n",
       "      <th>3251</th>\n",
       "      <td>400</td>\n",
       "      <td>500</td>\n",
       "      <td>30.000000</td>\n",
       "      <td>20044</td>\n",
       "      <td>100.0</td>\n",
       "    </tr>\n",
       "    <tr>\n",
       "      <th>4588</th>\n",
       "      <td>594</td>\n",
       "      <td>600</td>\n",
       "      <td>1.073903</td>\n",
       "      <td>42</td>\n",
       "      <td>100.0</td>\n",
       "    </tr>\n",
       "    <tr>\n",
       "      <th>7601</th>\n",
       "      <td>497</td>\n",
       "      <td>500</td>\n",
       "      <td>4.454987</td>\n",
       "      <td>42</td>\n",
       "      <td>-100.0</td>\n",
       "    </tr>\n",
       "    <tr>\n",
       "      <th>8900</th>\n",
       "      <td>399</td>\n",
       "      <td>400</td>\n",
       "      <td>1.156859</td>\n",
       "      <td>44</td>\n",
       "      <td>-100.0</td>\n",
       "    </tr>\n",
       "    <tr>\n",
       "      <th>10052</th>\n",
       "      <td>299</td>\n",
       "      <td>300</td>\n",
       "      <td>1.000000</td>\n",
       "      <td>8</td>\n",
       "      <td>-100.0</td>\n",
       "    </tr>\n",
       "    <tr>\n",
       "      <th>11044</th>\n",
       "      <td>194</td>\n",
       "      <td>200</td>\n",
       "      <td>1.021630</td>\n",
       "      <td>98</td>\n",
       "      <td>-100.0</td>\n",
       "    </tr>\n",
       "    <tr>\n",
       "      <th>12401</th>\n",
       "      <td>298</td>\n",
       "      <td>300</td>\n",
       "      <td>1.000000</td>\n",
       "      <td>9</td>\n",
       "      <td>100.0</td>\n",
       "    </tr>\n",
       "    <tr>\n",
       "      <th>13338</th>\n",
       "      <td>398</td>\n",
       "      <td>400</td>\n",
       "      <td>1.153538</td>\n",
       "      <td>41</td>\n",
       "      <td>100.0</td>\n",
       "    </tr>\n",
       "    <tr>\n",
       "      <th>14542</th>\n",
       "      <td>497</td>\n",
       "      <td>500</td>\n",
       "      <td>1.157151</td>\n",
       "      <td>21</td>\n",
       "      <td>100.0</td>\n",
       "    </tr>\n",
       "    <tr>\n",
       "      <th>16033</th>\n",
       "      <td>595</td>\n",
       "      <td>600</td>\n",
       "      <td>2.013639</td>\n",
       "      <td>24</td>\n",
       "      <td>100.0</td>\n",
       "    </tr>\n",
       "    <tr>\n",
       "      <th>19208</th>\n",
       "      <td>487</td>\n",
       "      <td>500</td>\n",
       "      <td>1.144007</td>\n",
       "      <td>50</td>\n",
       "      <td>-100.0</td>\n",
       "    </tr>\n",
       "    <tr>\n",
       "      <th>20686</th>\n",
       "      <td>397</td>\n",
       "      <td>400</td>\n",
       "      <td>1.067667</td>\n",
       "      <td>73</td>\n",
       "      <td>-100.0</td>\n",
       "    </tr>\n",
       "    <tr>\n",
       "      <th>21896</th>\n",
       "      <td>296</td>\n",
       "      <td>300</td>\n",
       "      <td>1.569061</td>\n",
       "      <td>92</td>\n",
       "      <td>-100.0</td>\n",
       "    </tr>\n",
       "    <tr>\n",
       "      <th>22862</th>\n",
       "      <td>199</td>\n",
       "      <td>200</td>\n",
       "      <td>1.119921</td>\n",
       "      <td>50</td>\n",
       "      <td>-100.0</td>\n",
       "    </tr>\n",
       "  </tbody>\n",
       "</table>\n",
       "</div>"
      ],
      "text/plain": [
       "       start  total   overhead  duration      c\n",
       "0        198    200   1.424500       243    NaN\n",
       "1099     200    300  30.000000     10016  100.0\n",
       "2111     396    400   1.674427        17  100.0\n",
       "3251     400    500  30.000000     20044  100.0\n",
       "4588     594    600   1.073903        42  100.0\n",
       "7601     497    500   4.454987        42 -100.0\n",
       "8900     399    400   1.156859        44 -100.0\n",
       "10052    299    300   1.000000         8 -100.0\n",
       "11044    194    200   1.021630        98 -100.0\n",
       "12401    298    300   1.000000         9  100.0\n",
       "13338    398    400   1.153538        41  100.0\n",
       "14542    497    500   1.157151        21  100.0\n",
       "16033    595    600   2.013639        24  100.0\n",
       "19208    487    500   1.144007        50 -100.0\n",
       "20686    397    400   1.067667        73 -100.0\n",
       "21896    296    300   1.569061        92 -100.0\n",
       "22862    199    200   1.119921        50 -100.0"
      ]
     },
     "execution_count": 4,
     "metadata": {},
     "output_type": "execute_result"
    }
   ],
   "source": [
    "df['c'] = df['total'].diff()\n",
    "df_filtered = df[df['c'] != 0]\n",
    "df_filtered"
   ]
  },
  {
   "cell_type": "code",
   "execution_count": 5,
   "metadata": {},
   "outputs": [
    {
     "name": "stdout",
     "output_type": "stream",
     "text": [
      "17\n",
      "[0, 1099, 2111, 3251, 4588, 7601, 8900, 10052, 11044, 12401, 13338, 14542, 16033, 19208, 20686, 21896, 22862]\n"
     ]
    }
   ],
   "source": [
    "index_list = df_filtered.index.tolist() # list of the start poisitions of index for change of values \n",
    "print(len(index_list))\n",
    "print(index_list)"
   ]
  },
  {
   "cell_type": "code",
   "execution_count": 6,
   "metadata": {},
   "outputs": [],
   "source": [
    "l_mod = index_list + [max(index_list)+1] # creating a list of indexes to iterate over (must have 0 in it)\n",
    "list_of_dfs = [df.iloc[l_mod[n]:l_mod[n+1]] for n in range(len(l_mod)-1)] # creating a list of dfs for each index"
   ]
  },
  {
   "cell_type": "code",
   "execution_count": 7,
   "metadata": {},
   "outputs": [],
   "source": [
    "df2, df3, df4,df5,df6 = [], [], [], [],[] # creating new arrays for separate car numbers"
   ]
  },
  {
   "cell_type": "code",
   "execution_count": 8,
   "metadata": {},
   "outputs": [],
   "source": [
    "for i in list_of_dfs:\n",
    "    x = i['overhead'].tolist()\n",
    "    if 200 == i['total'].iloc[0]:\n",
    "        df2.append(x)\n",
    "    elif 300 == i['total'].iloc[0]:\n",
    "        df3.append(x)\n",
    "    elif 400 == i['total'].iloc[0]:\n",
    "        df4.append(x)\n",
    "    elif 500 == i['total'].iloc[0]:\n",
    "        df5.append(x)\n",
    "    elif 600 == i['total'].iloc[0]:\n",
    "        df6.append(x)"
   ]
  },
  {
   "cell_type": "code",
   "execution_count": 14,
   "metadata": {},
   "outputs": [
    {
     "data": {
      "text/plain": [
       "2"
      ]
     },
     "execution_count": 14,
     "metadata": {},
     "output_type": "execute_result"
    }
   ],
   "source": [
    "len(df6)"
   ]
  },
  {
   "cell_type": "code",
   "execution_count": 16,
   "metadata": {},
   "outputs": [],
   "source": [
    "A = [df2[0], df2[1]]\n",
    "B = [df3[0], df3[1], df3[2], df3[3]]\n",
    "C = [df4[0], df4[1], df4[2], df4[3]]\n",
    "D = [df5[0], df5[1], df5[2], df5[3]]\n",
    "E = [df6[0], df6[1]]"
   ]
  },
  {
   "cell_type": "code",
   "execution_count": 17,
   "metadata": {},
   "outputs": [
    {
     "data": {
      "image/png": "[encoded data removed]",
      "text/plain": [
       "<Figure size 1296x720 with 1 Axes>"
      ]
     },
     "metadata": {},
     "output_type": "display_data"
    }
   ],
   "source": [
    "fig = figure(figsize=(18, 10))\n",
    "ax = axes()\n",
    "# hold(True)\n",
    "\n",
    "bp = boxplot(A, positions = [1, 2], widths = 0.6)\n",
    "\n",
    "bp = boxplot(B, positions = [5, 6, 7, 8], widths = 0.6)\n",
    "\n",
    "bp = boxplot(C, positions = [10, 11,12,13], widths = 0.6)\n",
    "\n",
    "bp = boxplot(D, positions = [16,17,18,19], widths = 0.6)\n",
    "\n",
    "bp = boxplot(E, positions = [21, 22], widths = 0.6)\n",
    "\n",
    "\n",
    "# set axes limits and labels\n",
    "xlim(0,23)\n",
    "ylim(0,14)\n",
    "ax.set_xticklabels(['200', '300', '400', '500', '600'])\n",
    "ax.set_xticks([1.5, 6.5, 12, 17.5, 21.5])\n",
    "\n",
    "# draw temporary red and blue lines and use them to create a legend\n",
    "# hB, = plot([1,1],'b-')\n",
    "# hR, = plot([1,1],'r-')\n",
    "# legend((hB, hR),('Apples', 'Oranges'))\n",
    "# hB.set_visible(False)\n",
    "# hR.set_visible(False)\n",
    "\n",
    "savefig('boxcompare.png')\n",
    "show()"
   ]
  },
  {
   "cell_type": "code",
   "execution_count": null,
   "metadata": {},
   "outputs": [],
   "source": []
  },
  {
   "cell_type": "code",
   "execution_count": null,
   "metadata": {},
   "outputs": [],
   "source": []
  }
 ],
 "metadata": {
  "kernelspec": {
   "display_name": "Python 3",
   "language": "python",
   "name": "python3"
  },
  "language_info": {
   "codemirror_mode": {
    "name": "ipython",
    "version": 3
   },
   "file_extension": ".py",
   "mimetype": "text/x-python",
   "name": "python",
   "nbconvert_exporter": "python",
   "pygments_lexer": "ipython3",
   "version": "3.6.9"
  }
 },
 "nbformat": 4,
 "nbformat_minor": 2
}
